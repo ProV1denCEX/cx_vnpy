{
 "cells": [
  {
   "cell_type": "code",
   "id": "initial_id",
   "metadata": {
    "collapsed": true,
    "ExecuteTime": {
     "end_time": "2024-06-28T05:55:02.398771Z",
     "start_time": "2024-06-28T05:55:01.235861Z"
    }
   },
   "source": [
    "from tqdm.auto import tqdm\n",
    "import multiprocessing\n",
    "import sys\n",
    "from datetime import datetime\n",
    "from time import sleep\n",
    "import datetime as dt\n",
    "import pandas as pd\n",
    "\n",
    "from Pandora.helper import TDays\n",
    "from Pandora.research.backtest import CODES_SHORT, calc_sharpe, COMMISSION\n",
    "from vnpy.app.vnpy_portfoliostrategy.strategies.macd_bband_strategy import MACDBBANDStrategy\n",
    "from vnpy.trader.constant import Interval, Product\n",
    "from vnpy.trader.optimize import OptimizationSetting\n",
    "from vnpy.trader.setting import SETTINGS\n",
    "from logging import INFO\n",
    "from vnpy.app.vnpy_portfoliostrategy import BacktestingEngine\n",
    "\n",
    "SETTINGS[\"log.active\"] = True\n",
    "SETTINGS[\"log.level\"] = INFO\n",
    "SETTINGS[\"log.console\"] = True\n",
    "\n"
   ],
   "outputs": [],
   "execution_count": 1
  },
  {
   "metadata": {
    "ExecuteTime": {
     "end_time": "2024-06-28T05:55:02.414730Z",
     "start_time": "2024-06-28T05:55:02.399769Z"
    }
   },
   "cell_type": "code",
   "source": [
    "def get_mc(codes):\n",
    "    from vnpy.trader.database import get_database\n",
    "\n",
    "    database = get_database()\n",
    "    today = datetime.combine(TDays.get_tday(fmt=None), dt.time(0))\n",
    "    contracts = database.load_contract_data(product=Product.FUTURES, start=today, end=today)\n",
    "    mc = [i for i in contracts if i.symbol.endswith('00') and i.product_id in codes]\n",
    "\n",
    "    return mc\n"
   ],
   "id": "275e1ff16e869a53",
   "outputs": [],
   "execution_count": 2
  },
  {
   "metadata": {
    "ExecuteTime": {
     "end_time": "2024-06-28T05:55:03.044595Z",
     "start_time": "2024-06-28T05:55:02.415726Z"
    }
   },
   "cell_type": "code",
   "source": "mc = get_mc(CODES_SHORT)\n",
   "id": "403b9e7476c321e2",
   "outputs": [],
   "execution_count": 3
  },
  {
   "metadata": {
    "ExecuteTime": {
     "end_time": "2024-06-28T05:55:15.384193Z",
     "start_time": "2024-06-28T05:55:03.045547Z"
    }
   },
   "cell_type": "code",
   "source": [
    "engine = BacktestingEngine()\n",
    "engine.contracts = {i.vt_symbol: i for i in mc}\n",
    "\n",
    "engine.set_parameters(\n",
    "    vt_symbols=[i.vt_symbol for i in mc],\n",
    "    interval=Interval.MINUTE_15,\n",
    "    start=datetime(2015, 1, 1),\n",
    "    end=datetime(2024, 6, 27),\n",
    "    rates={\n",
    "        i.vt_symbol: COMMISSION for i in mc\n",
    "    },\n",
    "    slippages={\n",
    "        i.vt_symbol: 0 for i in mc\n",
    "    },\n",
    "    sizes={\n",
    "        i.vt_symbol: i.size for i in mc\n",
    "    },\n",
    "    priceticks={\n",
    "        i.vt_symbol: i.pricetick for i in mc\n",
    "    },\n",
    "    capital=1e8,\n",
    ")\n",
    "\n",
    "engine.load_data()\n",
    "\n"
   ],
   "id": "4a8e4d55ee77d451",
   "outputs": [
    {
     "name": "stdout",
     "output_type": "stream",
     "text": [
      "2024-06-28 13:55:03.047542\t开始加载历史数据\n",
      "2024-06-28 13:55:03.847908\tAP00.CZCE历史数据加载完成，数据量：23655\n",
      "2024-06-28 13:55:04.096750\tCJ00.CZCE历史数据加载完成，数据量：18750\n",
      "2024-06-28 13:55:04.681690\tFG00.CZCE历史数据加载完成，数据量：53294\n",
      "2024-06-28 13:55:05.289130\tMA00.CZCE历史数据加载完成，数据量：54324\n",
      "2024-06-28 13:55:05.536656\tPF00.CZCE历史数据加载完成，数据量：20508\n",
      "2024-06-28 13:55:05.792008\tPK00.CZCE历史数据加载完成，数据量：12315\n",
      "2024-06-28 13:55:06.068284\tSA00.CZCE历史数据加载完成，数据量：24624\n",
      "2024-06-28 13:55:06.671728\tTA00.CZCE历史数据加载完成，数据量：54324\n",
      "2024-06-28 13:55:07.007903\tUR00.CZCE历史数据加载完成，数据量：17715\n",
      "2024-06-28 13:55:07.762413\tag00.SHFE历史数据加载完成，数据量：82467\n",
      "2024-06-28 13:55:08.455571\tal00.SHFE历史数据加载完成，数据量：69405\n",
      "2024-06-28 13:55:09.152225\tcu00.SHFE历史数据加载完成，数据量：69405\n",
      "2024-06-28 13:55:09.416027\teb00.DCE历史数据加载完成，数据量：25668\n",
      "2024-06-28 13:55:09.728387\teg00.DCE历史数据加载完成，数据量：29545\n",
      "2024-06-28 13:55:10.360696\thc00.SHFE历史数据加载完成，数据量：54480\n",
      "2024-06-28 13:55:10.872397\ti00.DCE历史数据加载完成，数据量：54938\n",
      "2024-06-28 13:55:11.552604\tj00.DCE历史数据加载完成，数据量：54938\n",
      "2024-06-28 13:55:12.064236\tjm00.DCE历史数据加载完成，数据量：54938\n",
      "2024-06-28 13:55:12.233782\tlh00.DCE历史数据加载完成，数据量：12555\n",
      "2024-06-28 13:55:12.960849\tni00.SHFE历史数据加载完成，数据量：67705\n",
      "2024-06-28 13:55:13.479474\tp00.DCE历史数据加载完成，数据量：54938\n",
      "2024-06-28 13:55:13.731814\tpg00.DCE历史数据加载完成，数据量：23252\n",
      "2024-06-28 13:55:14.424467\trb00.SHFE历史数据加载完成，数据量：54480\n",
      "2024-06-28 13:55:14.881750\tsc00.INE历史数据加载完成，数据量：53854\n",
      "2024-06-28 13:55:15.374220\tv00.DCE历史数据加载完成，数据量：43960\n",
      "2024-06-28 13:55:15.374220\t所有历史数据加载完成\n"
     ]
    }
   ],
   "execution_count": 4
  },
  {
   "metadata": {
    "ExecuteTime": {
     "end_time": "2024-06-28T05:22:55.915982Z",
     "start_time": "2024-06-28T05:21:36.237432Z"
    }
   },
   "cell_type": "code",
   "source": [
    "engine.clear_data()\n",
    "setting = {\n",
    "    \"window\": 350,\n",
    "    \"bband_width\": 1.5,\n",
    "}\n",
    "engine.add_strategy(MACDBBANDStrategy, setting)\n",
    "\n",
    "engine.run_backtesting()\n",
    "df = engine.calculate_result()\n",
    "\n",
    "daily_base = pd.Series(df['net_pnl'] / engine.capital, index=pd.to_datetime(df.index))\n",
    "daily_base.cumsum().plot(figsize=(16, 9))\n",
    "calc_sharpe(daily_base)"
   ],
   "id": "37e73a93f6cd6550",
   "outputs": [
    {
     "name": "stdout",
     "output_type": "stream",
     "text": [
      "2024-06-28 13:21:36.655314\t策略初始化完成\n",
      "2024-06-28 13:21:36.656312\t开始回放历史数据\n"
     ]
    },
    {
     "data": {
      "text/plain": [
       "回放历史数据:   0%|          | 0/78473 [00:00<?, ?it/s]"
      ],
      "application/vnd.jupyter.widget-view+json": {
       "version_major": 2,
       "version_minor": 0,
       "model_id": "25dc7ec5c64c4edda9516150210f49f4"
      },
      "application/json": {
       "n": 0,
       "total": 78473,
       "elapsed": 0.005984067916870117,
       "ncols": null,
       "nrows": null,
       "prefix": "回放历史数据",
       "ascii": false,
       "unit": "it",
       "unit_scale": false,
       "rate": null,
       "bar_format": null,
       "postfix": null,
       "unit_divisor": 1000,
       "initial": 0,
       "colour": null
      }
     },
     "metadata": {},
     "output_type": "display_data"
    },
    {
     "name": "stdout",
     "output_type": "stream",
     "text": [
      "2024-06-28 13:22:55.114328\t历史数据回放结束\n",
      "2024-06-28 13:22:55.115325\t开始计算逐日盯市盈亏\n",
      "2024-06-28 13:22:55.203190\t逐日盯市盈亏计算完成\n"
     ]
    },
    {
     "data": {
      "text/plain": [
       "1.6757862064794278"
      ]
     },
     "execution_count": 5,
     "metadata": {},
     "output_type": "execute_result"
    },
    {
     "data": {
      "text/plain": [
       "<Figure size 1152x648 with 1 Axes>"
      ],
      "image/png": "[encoded data removed]"
     },
     "metadata": {
      "needs_background": "light"
     },
     "output_type": "display_data"
    }
   ],
   "execution_count": 5
  },
  {
   "metadata": {},
   "cell_type": "markdown",
   "source": [
    "## Full set\n",
    "\n",
    "- CODES_SHORT\n",
    "- Vol exit\n",
    "- LS imba"
   ],
   "id": "9e39a13ff276f67c"
  },
  {
   "metadata": {},
   "cell_type": "markdown",
   "source": "### ATR multiplier = 11",
   "id": "c8b74867947c98b9"
  },
  {
   "metadata": {
    "ExecuteTime": {
     "end_time": "2024-06-28T05:31:54.736192Z",
     "start_time": "2024-06-28T05:22:55.916980Z"
    }
   },
   "cell_type": "code",
   "source": [
    "setting = {\n",
    "    \"window\": 50,\n",
    "}\n",
    "engine.add_strategy(MACDBBANDStrategy, setting)\n",
    "\n",
    "\n",
    "setting = OptimizationSetting()\n",
    "setting.set_target(\"sharpe_ratio\")\n",
    "setting.add_parameter(\"window\", 50, 500, 50)\n",
    "setting.add_parameter(\"bband_width\", 1.5, 2, 0.25)\n",
    "setting.add_parameter(\"atr_multiplier\", 11)\n",
    "\n",
    "opt_res = engine.run_bf_optimization(setting, max_workers=10)"
   ],
   "id": "de605849fe4139c3",
   "outputs": [
    {
     "name": "stdout",
     "output_type": "stream",
     "text": [
      "2024-06-28 13:22:55.919973\t开始执行穷举算法优化\n",
      "2024-06-28 13:22:55.919973\t参数优化空间：30\n"
     ]
    },
    {
     "name": "stderr",
     "output_type": "stream",
     "text": [
      "100%|██████████| 30/30 [08:51<00:00, 17.70s/it]\n"
     ]
    },
    {
     "name": "stdout",
     "output_type": "stream",
     "text": [
      "2024-06-28 13:31:50.599180\t穷举算法优化完成，耗时534秒\n",
      "2024-06-28 13:31:54.728214\t参数：{'window': 350, 'bband_width': 1.5, 'atr_multiplier': 11}, 目标：1.6545569295810152\n",
      "2024-06-28 13:31:54.728214\t参数：{'window': 50, 'bband_width': 1.5, 'atr_multiplier': 11}, 目标：1.4595867239927953\n",
      "2024-06-28 13:31:54.728214\t参数：{'window': 250, 'bband_width': 1.5, 'atr_multiplier': 11}, 目标：1.4162272814214354\n",
      "2024-06-28 13:31:54.728214\t参数：{'window': 450, 'bband_width': 1.75, 'atr_multiplier': 11}, 目标：1.3935631187776818\n",
      "2024-06-28 13:31:54.728214\t参数：{'window': 200, 'bband_width': 2.0, 'atr_multiplier': 11}, 目标：1.3895589018723042\n",
      "2024-06-28 13:31:54.728214\t参数：{'window': 350, 'bband_width': 1.75, 'atr_multiplier': 11}, 目标：1.386306497393153\n",
      "2024-06-28 13:31:54.728214\t参数：{'window': 400, 'bband_width': 1.75, 'atr_multiplier': 11}, 目标：1.3830607904029568\n",
      "2024-06-28 13:31:54.728214\t参数：{'window': 400, 'bband_width': 1.5, 'atr_multiplier': 11}, 目标：1.3572717307729527\n",
      "2024-06-28 13:31:54.728214\t参数：{'window': 200, 'bband_width': 1.75, 'atr_multiplier': 11}, 目标：1.3364787215551555\n",
      "2024-06-28 13:31:54.728214\t参数：{'window': 450, 'bband_width': 1.5, 'atr_multiplier': 11}, 目标：1.3317243553953404\n",
      "2024-06-28 13:31:54.728214\t参数：{'window': 250, 'bband_width': 2.0, 'atr_multiplier': 11}, 目标：1.3101322992581153\n",
      "2024-06-28 13:31:54.728214\t参数：{'window': 350, 'bband_width': 2.0, 'atr_multiplier': 11}, 目标：1.3078739946875408\n",
      "2024-06-28 13:31:54.728214\t参数：{'window': 100, 'bband_width': 1.5, 'atr_multiplier': 11}, 目标：1.2889785517841412\n",
      "2024-06-28 13:31:54.728214\t参数：{'window': 150, 'bband_width': 1.75, 'atr_multiplier': 11}, 目标：1.272973673708734\n",
      "2024-06-28 13:31:54.728214\t参数：{'window': 50, 'bband_width': 1.75, 'atr_multiplier': 11}, 目标：1.2596225167784707\n",
      "2024-06-28 13:31:54.728214\t参数：{'window': 250, 'bband_width': 1.75, 'atr_multiplier': 11}, 目标：1.2307018844112907\n",
      "2024-06-28 13:31:54.728214\t参数：{'window': 200, 'bband_width': 1.5, 'atr_multiplier': 11}, 目标：1.2239520901438705\n",
      "2024-06-28 13:31:54.728214\t参数：{'window': 500, 'bband_width': 1.75, 'atr_multiplier': 11}, 目标：1.217109807711373\n",
      "2024-06-28 13:31:54.728214\t参数：{'window': 300, 'bband_width': 1.75, 'atr_multiplier': 11}, 目标：1.2028485001139795\n",
      "2024-06-28 13:31:54.728214\t参数：{'window': 300, 'bband_width': 2.0, 'atr_multiplier': 11}, 目标：1.198186488205321\n",
      "2024-06-28 13:31:54.728214\t参数：{'window': 150, 'bband_width': 1.5, 'atr_multiplier': 11}, 目标：1.1812243604125685\n",
      "2024-06-28 13:31:54.728214\t参数：{'window': 300, 'bband_width': 1.5, 'atr_multiplier': 11}, 目标：1.1716896031220971\n",
      "2024-06-28 13:31:54.728214\t参数：{'window': 50, 'bband_width': 2.0, 'atr_multiplier': 11}, 目标：1.1635862055661168\n",
      "2024-06-28 13:31:54.728214\t参数：{'window': 500, 'bband_width': 2.0, 'atr_multiplier': 11}, 目标：1.1573004331425152\n",
      "2024-06-28 13:31:54.728214\t参数：{'window': 150, 'bband_width': 2.0, 'atr_multiplier': 11}, 目标：1.1481675044688862\n",
      "2024-06-28 13:31:54.728214\t参数：{'window': 500, 'bband_width': 1.5, 'atr_multiplier': 11}, 目标：1.1361474942490537\n",
      "2024-06-28 13:31:54.728214\t参数：{'window': 400, 'bband_width': 2.0, 'atr_multiplier': 11}, 目标：1.1288014396255355\n",
      "2024-06-28 13:31:54.728214\t参数：{'window': 100, 'bband_width': 1.75, 'atr_multiplier': 11}, 目标：1.1261098537882694\n",
      "2024-06-28 13:31:54.728214\t参数：{'window': 450, 'bband_width': 2.0, 'atr_multiplier': 11}, 目标：1.0051441049997767\n",
      "2024-06-28 13:31:54.728214\t参数：{'window': 100, 'bband_width': 2.0, 'atr_multiplier': 11}, 目标：0.9979823676293541\n"
     ]
    }
   ],
   "execution_count": 6
  },
  {
   "metadata": {
    "ExecuteTime": {
     "end_time": "2024-06-28T05:31:54.796863Z",
     "start_time": "2024-06-28T05:31:54.741179Z"
    }
   },
   "cell_type": "code",
   "source": [
    "sharpe_mat = pd.DataFrame()\n",
    "\n",
    "for res in opt_res:\n",
    "    param = res[0]\n",
    "    sharpe = res[1]\n",
    "    \n",
    "    sharpe_mat.loc[param['window'], param['bband_width']] = sharpe\n",
    "    \n",
    "sharpe_mat\n"
   ],
   "id": "120f8ee659ec9387",
   "outputs": [
    {
     "data": {
      "text/plain": [
       "         1.50      1.75      2.00\n",
       "350  1.654557  1.386306  1.307874\n",
       "50   1.459587  1.259623  1.163586\n",
       "250  1.416227  1.230702  1.310132\n",
       "450  1.331724  1.393563  1.005144\n",
       "200  1.223952  1.336479  1.389559\n",
       "400  1.357272  1.383061  1.128801\n",
       "100  1.288979  1.126110  0.997982\n",
       "150  1.181224  1.272974  1.148168\n",
       "500  1.136147  1.217110  1.157300\n",
       "300  1.171690  1.202849  1.198186"
      ],
      "text/html": [
       "<div>\n",
       "<style scoped>\n",
       "    .dataframe tbody tr th:only-of-type {\n",
       "        vertical-align: middle;\n",
       "    }\n",
       "\n",
       "    .dataframe tbody tr th {\n",
       "        vertical-align: top;\n",
       "    }\n",
       "\n",
       "    .dataframe thead th {\n",
       "        text-align: right;\n",
       "    }\n",
       "</style>\n",
       "<table border=\"1\" class=\"dataframe\">\n",
       "  <thead>\n",
       "    <tr style=\"text-align: right;\">\n",
       "      <th></th>\n",
       "      <th>1.50</th>\n",
       "      <th>1.75</th>\n",
       "      <th>2.00</th>\n",
       "    </tr>\n",
       "  </thead>\n",
       "  <tbody>\n",
       "    <tr>\n",
       "      <th>350</th>\n",
       "      <td>1.654557</td>\n",
       "      <td>1.386306</td>\n",
       "      <td>1.307874</td>\n",
       "    </tr>\n",
       "    <tr>\n",
       "      <th>50</th>\n",
       "      <td>1.459587</td>\n",
       "      <td>1.259623</td>\n",
       "      <td>1.163586</td>\n",
       "    </tr>\n",
       "    <tr>\n",
       "      <th>250</th>\n",
       "      <td>1.416227</td>\n",
       "      <td>1.230702</td>\n",
       "      <td>1.310132</td>\n",
       "    </tr>\n",
       "    <tr>\n",
       "      <th>450</th>\n",
       "      <td>1.331724</td>\n",
       "      <td>1.393563</td>\n",
       "      <td>1.005144</td>\n",
       "    </tr>\n",
       "    <tr>\n",
       "      <th>200</th>\n",
       "      <td>1.223952</td>\n",
       "      <td>1.336479</td>\n",
       "      <td>1.389559</td>\n",
       "    </tr>\n",
       "    <tr>\n",
       "      <th>400</th>\n",
       "      <td>1.357272</td>\n",
       "      <td>1.383061</td>\n",
       "      <td>1.128801</td>\n",
       "    </tr>\n",
       "    <tr>\n",
       "      <th>100</th>\n",
       "      <td>1.288979</td>\n",
       "      <td>1.126110</td>\n",
       "      <td>0.997982</td>\n",
       "    </tr>\n",
       "    <tr>\n",
       "      <th>150</th>\n",
       "      <td>1.181224</td>\n",
       "      <td>1.272974</td>\n",
       "      <td>1.148168</td>\n",
       "    </tr>\n",
       "    <tr>\n",
       "      <th>500</th>\n",
       "      <td>1.136147</td>\n",
       "      <td>1.217110</td>\n",
       "      <td>1.157300</td>\n",
       "    </tr>\n",
       "    <tr>\n",
       "      <th>300</th>\n",
       "      <td>1.171690</td>\n",
       "      <td>1.202849</td>\n",
       "      <td>1.198186</td>\n",
       "    </tr>\n",
       "  </tbody>\n",
       "</table>\n",
       "</div>"
      ]
     },
     "execution_count": 7,
     "metadata": {},
     "output_type": "execute_result"
    }
   ],
   "execution_count": 7
  },
  {
   "metadata": {},
   "cell_type": "markdown",
   "source": "### ATR multiplier = 13",
   "id": "d8f1e98b3545e4ea"
  },
  {
   "metadata": {
    "ExecuteTime": {
     "end_time": "2024-06-28T05:42:31.234459Z",
     "start_time": "2024-06-28T05:33:36.889277Z"
    }
   },
   "cell_type": "code",
   "source": [
    "setting = {\n",
    "    \"window\": 50,\n",
    "}\n",
    "engine.add_strategy(MACDBBANDStrategy, setting)\n",
    "\n",
    "\n",
    "setting = OptimizationSetting()\n",
    "setting.set_target(\"sharpe_ratio\")\n",
    "setting.add_parameter(\"window\", 50, 500, 50)\n",
    "setting.add_parameter(\"bband_width\", 1.5, 2, 0.25)\n",
    "setting.add_parameter(\"atr_multiplier\", 13)\n",
    "\n",
    "opt_res = engine.run_bf_optimization(setting, max_workers=10)\n",
    "\n",
    "sharpe_mat = pd.DataFrame()\n",
    "\n",
    "for res in opt_res:\n",
    "    param = res[0]\n",
    "    sharpe = res[1]\n",
    "\n",
    "    sharpe_mat.loc[param['window'], param['bband_width']] = sharpe\n",
    "\n",
    "sharpe_mat.sort_index()"
   ],
   "id": "64205e3eed503fdc",
   "outputs": [
    {
     "name": "stdout",
     "output_type": "stream",
     "text": [
      "2024-06-28 13:33:36.892813\t开始执行穷举算法优化\n",
      "2024-06-28 13:33:36.892813\t参数优化空间：30\n"
     ]
    },
    {
     "name": "stderr",
     "output_type": "stream",
     "text": [
      "100%|██████████| 30/30 [08:46<00:00, 17.55s/it]\n"
     ]
    },
    {
     "name": "stdout",
     "output_type": "stream",
     "text": [
      "2024-06-28 13:42:27.229059\t穷举算法优化完成，耗时530秒\n",
      "2024-06-28 13:42:31.192571\t参数：{'window': 100, 'bband_width': 1.5, 'atr_multiplier': 13}, 目标：1.5277339340400575\n",
      "2024-06-28 13:42:31.192571\t参数：{'window': 350, 'bband_width': 1.5, 'atr_multiplier': 13}, 目标：1.5101383668903299\n",
      "2024-06-28 13:42:31.192571\t参数：{'window': 200, 'bband_width': 2.0, 'atr_multiplier': 13}, 目标：1.504251309652192\n",
      "2024-06-28 13:42:31.192571\t参数：{'window': 200, 'bband_width': 1.75, 'atr_multiplier': 13}, 目标：1.440904062423533\n",
      "2024-06-28 13:42:31.192571\t参数：{'window': 150, 'bband_width': 1.75, 'atr_multiplier': 13}, 目标：1.3998189407350803\n",
      "2024-06-28 13:42:31.192571\t参数：{'window': 450, 'bband_width': 1.75, 'atr_multiplier': 13}, 目标：1.3963082453180409\n",
      "2024-06-28 13:42:31.192571\t参数：{'window': 450, 'bband_width': 1.5, 'atr_multiplier': 13}, 目标：1.3936022691135765\n",
      "2024-06-28 13:42:31.192571\t参数：{'window': 400, 'bband_width': 1.75, 'atr_multiplier': 13}, 目标：1.3864604447787905\n",
      "2024-06-28 13:42:31.192571\t参数：{'window': 100, 'bband_width': 1.75, 'atr_multiplier': 13}, 目标：1.3754696993571416\n",
      "2024-06-28 13:42:31.192571\t参数：{'window': 50, 'bband_width': 1.5, 'atr_multiplier': 13}, 目标：1.3400817505220466\n",
      "2024-06-28 13:42:31.192571\t参数：{'window': 50, 'bband_width': 1.75, 'atr_multiplier': 13}, 目标：1.3355828459754147\n",
      "2024-06-28 13:42:31.192571\t参数：{'window': 350, 'bband_width': 1.75, 'atr_multiplier': 13}, 目标：1.3332696067263663\n",
      "2024-06-28 13:42:31.192571\t参数：{'window': 250, 'bband_width': 1.5, 'atr_multiplier': 13}, 目标：1.3197157983335595\n",
      "2024-06-28 13:42:31.192571\t参数：{'window': 400, 'bband_width': 1.5, 'atr_multiplier': 13}, 目标：1.3066599327812494\n",
      "2024-06-28 13:42:31.192571\t参数：{'window': 300, 'bband_width': 1.75, 'atr_multiplier': 13}, 目标：1.2890214427309281\n",
      "2024-06-28 13:42:31.192571\t参数：{'window': 150, 'bband_width': 2.0, 'atr_multiplier': 13}, 目标：1.2883611028584454\n",
      "2024-06-28 13:42:31.192571\t参数：{'window': 200, 'bband_width': 1.5, 'atr_multiplier': 13}, 目标：1.2845150663721547\n",
      "2024-06-28 13:42:31.192571\t参数：{'window': 150, 'bband_width': 1.5, 'atr_multiplier': 13}, 目标：1.2830205556291425\n",
      "2024-06-28 13:42:31.192571\t参数：{'window': 350, 'bband_width': 2.0, 'atr_multiplier': 13}, 目标：1.2583377234028281\n",
      "2024-06-28 13:42:31.192571\t参数：{'window': 300, 'bband_width': 2.0, 'atr_multiplier': 13}, 目标：1.24963423529098\n",
      "2024-06-28 13:42:31.192571\t参数：{'window': 50, 'bband_width': 2.0, 'atr_multiplier': 13}, 目标：1.2393521120634738\n",
      "2024-06-28 13:42:31.192571\t参数：{'window': 250, 'bband_width': 2.0, 'atr_multiplier': 13}, 目标：1.237466494547006\n",
      "2024-06-28 13:42:31.192571\t参数：{'window': 500, 'bband_width': 1.5, 'atr_multiplier': 13}, 目标：1.2067600709639292\n",
      "2024-06-28 13:42:31.192571\t参数：{'window': 400, 'bband_width': 2.0, 'atr_multiplier': 13}, 目标：1.200505867532033\n",
      "2024-06-28 13:42:31.192571\t参数：{'window': 250, 'bband_width': 1.75, 'atr_multiplier': 13}, 目标：1.191095040156788\n",
      "2024-06-28 13:42:31.192571\t参数：{'window': 500, 'bband_width': 2.0, 'atr_multiplier': 13}, 目标：1.1489580167235514\n",
      "2024-06-28 13:42:31.192571\t参数：{'window': 100, 'bband_width': 2.0, 'atr_multiplier': 13}, 目标：1.1470059652294478\n",
      "2024-06-28 13:42:31.192571\t参数：{'window': 300, 'bband_width': 1.5, 'atr_multiplier': 13}, 目标：1.147004962763121\n",
      "2024-06-28 13:42:31.192571\t参数：{'window': 500, 'bband_width': 1.75, 'atr_multiplier': 13}, 目标：1.1381759053078744\n",
      "2024-06-28 13:42:31.192571\t参数：{'window': 450, 'bband_width': 2.0, 'atr_multiplier': 13}, 目标：0.9752024223768728\n"
     ]
    },
    {
     "data": {
      "text/plain": [
       "         1.50      2.00      1.75\n",
       "50   1.340082  1.239352  1.335583\n",
       "100  1.527734  1.147006  1.375470\n",
       "150  1.283021  1.288361  1.399819\n",
       "200  1.284515  1.504251  1.440904\n",
       "250  1.319716  1.237466  1.191095\n",
       "300  1.147005  1.249634  1.289021\n",
       "350  1.510138  1.258338  1.333270\n",
       "400  1.306660  1.200506  1.386460\n",
       "450  1.393602  0.975202  1.396308\n",
       "500  1.206760  1.148958  1.138176"
      ],
      "text/html": [
       "<div>\n",
       "<style scoped>\n",
       "    .dataframe tbody tr th:only-of-type {\n",
       "        vertical-align: middle;\n",
       "    }\n",
       "\n",
       "    .dataframe tbody tr th {\n",
       "        vertical-align: top;\n",
       "    }\n",
       "\n",
       "    .dataframe thead th {\n",
       "        text-align: right;\n",
       "    }\n",
       "</style>\n",
       "<table border=\"1\" class=\"dataframe\">\n",
       "  <thead>\n",
       "    <tr style=\"text-align: right;\">\n",
       "      <th></th>\n",
       "      <th>1.50</th>\n",
       "      <th>2.00</th>\n",
       "      <th>1.75</th>\n",
       "    </tr>\n",
       "  </thead>\n",
       "  <tbody>\n",
       "    <tr>\n",
       "      <th>50</th>\n",
       "      <td>1.340082</td>\n",
       "      <td>1.239352</td>\n",
       "      <td>1.335583</td>\n",
       "    </tr>\n",
       "    <tr>\n",
       "      <th>100</th>\n",
       "      <td>1.527734</td>\n",
       "      <td>1.147006</td>\n",
       "      <td>1.375470</td>\n",
       "    </tr>\n",
       "    <tr>\n",
       "      <th>150</th>\n",
       "      <td>1.283021</td>\n",
       "      <td>1.288361</td>\n",
       "      <td>1.399819</td>\n",
       "    </tr>\n",
       "    <tr>\n",
       "      <th>200</th>\n",
       "      <td>1.284515</td>\n",
       "      <td>1.504251</td>\n",
       "      <td>1.440904</td>\n",
       "    </tr>\n",
       "    <tr>\n",
       "      <th>250</th>\n",
       "      <td>1.319716</td>\n",
       "      <td>1.237466</td>\n",
       "      <td>1.191095</td>\n",
       "    </tr>\n",
       "    <tr>\n",
       "      <th>300</th>\n",
       "      <td>1.147005</td>\n",
       "      <td>1.249634</td>\n",
       "      <td>1.289021</td>\n",
       "    </tr>\n",
       "    <tr>\n",
       "      <th>350</th>\n",
       "      <td>1.510138</td>\n",
       "      <td>1.258338</td>\n",
       "      <td>1.333270</td>\n",
       "    </tr>\n",
       "    <tr>\n",
       "      <th>400</th>\n",
       "      <td>1.306660</td>\n",
       "      <td>1.200506</td>\n",
       "      <td>1.386460</td>\n",
       "    </tr>\n",
       "    <tr>\n",
       "      <th>450</th>\n",
       "      <td>1.393602</td>\n",
       "      <td>0.975202</td>\n",
       "      <td>1.396308</td>\n",
       "    </tr>\n",
       "    <tr>\n",
       "      <th>500</th>\n",
       "      <td>1.206760</td>\n",
       "      <td>1.148958</td>\n",
       "      <td>1.138176</td>\n",
       "    </tr>\n",
       "  </tbody>\n",
       "</table>\n",
       "</div>"
      ]
     },
     "execution_count": 8,
     "metadata": {},
     "output_type": "execute_result"
    }
   ],
   "execution_count": 8
  },
  {
   "metadata": {},
   "cell_type": "markdown",
   "source": "## LS balance",
   "id": "6be6510e262dc13c"
  },
  {
   "metadata": {
    "ExecuteTime": {
     "end_time": "2024-06-28T06:03:58.097696Z",
     "start_time": "2024-06-28T05:55:15.386188Z"
    }
   },
   "cell_type": "code",
   "source": [
    "setting = {\n",
    "    \"window\": 50,\n",
    "}\n",
    "engine.add_strategy(MACDBBANDStrategy, setting)\n",
    "\n",
    "\n",
    "setting = OptimizationSetting()\n",
    "setting.set_target(\"sharpe_ratio\")\n",
    "setting.add_parameter(\"window\", 50, 500, 50)\n",
    "setting.add_parameter(\"bband_width\", 1.5, 2, 0.25)\n",
    "setting.add_parameter(\"atr_multiplier\", 13)\n",
    "setting.add_parameter(\"ls_imba\", 1)\n",
    "\n",
    "opt_res = engine.run_bf_optimization(setting, max_workers=10)\n",
    "\n",
    "sharpe_mat = pd.DataFrame()\n",
    "\n",
    "for res in opt_res:\n",
    "    param = res[0]\n",
    "    sharpe = res[1]\n",
    "\n",
    "    sharpe_mat.loc[param['window'], param['bband_width']] = sharpe\n",
    "\n",
    "sharpe_mat.sort_index()"
   ],
   "id": "f4874f19b50b3dc0",
   "outputs": [
    {
     "name": "stdout",
     "output_type": "stream",
     "text": [
      "2024-06-28 13:55:15.390178\t开始执行穷举算法优化\n",
      "2024-06-28 13:55:15.390178\t参数优化空间：30\n"
     ]
    },
    {
     "name": "stderr",
     "output_type": "stream",
     "text": [
      "100%|██████████| 30/30 [08:34<00:00, 17.16s/it]\n"
     ]
    },
    {
     "name": "stdout",
     "output_type": "stream",
     "text": [
      "2024-06-28 14:03:54.006441\t穷举算法优化完成，耗时518秒\n",
      "2024-06-28 14:03:58.044837\t参数：{'window': 200, 'bband_width': 2.0, 'atr_multiplier': 13, 'ls_imba': 1}, 目标：1.477948680602513\n",
      "2024-06-28 14:03:58.044837\t参数：{'window': 350, 'bband_width': 1.5, 'atr_multiplier': 13, 'ls_imba': 1}, 目标：1.3545238797920702\n",
      "2024-06-28 14:03:58.044837\t参数：{'window': 200, 'bband_width': 1.75, 'atr_multiplier': 13, 'ls_imba': 1}, 目标：1.303462404711154\n",
      "2024-06-28 14:03:58.044837\t参数：{'window': 300, 'bband_width': 2.0, 'atr_multiplier': 13, 'ls_imba': 1}, 目标：1.294894175173755\n",
      "2024-06-28 14:03:58.044837\t参数：{'window': 150, 'bband_width': 1.5, 'atr_multiplier': 13, 'ls_imba': 1}, 目标：1.2719217219882897\n",
      "2024-06-28 14:03:58.044837\t参数：{'window': 250, 'bband_width': 2.0, 'atr_multiplier': 13, 'ls_imba': 1}, 目标：1.2272948066972218\n",
      "2024-06-28 14:03:58.044837\t参数：{'window': 150, 'bband_width': 1.75, 'atr_multiplier': 13, 'ls_imba': 1}, 目标：1.2041619376649528\n",
      "2024-06-28 14:03:58.044837\t参数：{'window': 300, 'bband_width': 1.5, 'atr_multiplier': 13, 'ls_imba': 1}, 目标：1.192111234899049\n",
      "2024-06-28 14:03:58.044837\t参数：{'window': 100, 'bband_width': 1.75, 'atr_multiplier': 13, 'ls_imba': 1}, 目标：1.1886371343466267\n",
      "2024-06-28 14:03:58.044837\t参数：{'window': 300, 'bband_width': 1.75, 'atr_multiplier': 13, 'ls_imba': 1}, 目标：1.1819433272301272\n",
      "2024-06-28 14:03:58.044837\t参数：{'window': 200, 'bband_width': 1.5, 'atr_multiplier': 13, 'ls_imba': 1}, 目标：1.1795795094605201\n",
      "2024-06-28 14:03:58.044837\t参数：{'window': 100, 'bband_width': 1.5, 'atr_multiplier': 13, 'ls_imba': 1}, 目标：1.1655058396512255\n",
      "2024-06-28 14:03:58.044837\t参数：{'window': 100, 'bband_width': 2.0, 'atr_multiplier': 13, 'ls_imba': 1}, 目标：1.159571530143676\n",
      "2024-06-28 14:03:58.044837\t参数：{'window': 250, 'bband_width': 1.5, 'atr_multiplier': 13, 'ls_imba': 1}, 目标：1.1458446546618932\n",
      "2024-06-28 14:03:58.044837\t参数：{'window': 50, 'bband_width': 1.5, 'atr_multiplier': 13, 'ls_imba': 1}, 目标：1.09052431742028\n",
      "2024-06-28 14:03:58.044837\t参数：{'window': 400, 'bband_width': 1.5, 'atr_multiplier': 13, 'ls_imba': 1}, 目标：1.0899872478028427\n",
      "2024-06-28 14:03:58.044837\t参数：{'window': 250, 'bband_width': 1.75, 'atr_multiplier': 13, 'ls_imba': 1}, 目标：1.0851712310541313\n",
      "2024-06-28 14:03:58.044837\t参数：{'window': 50, 'bband_width': 2.0, 'atr_multiplier': 13, 'ls_imba': 1}, 目标：1.083932233653709\n",
      "2024-06-28 14:03:58.044837\t参数：{'window': 350, 'bband_width': 1.75, 'atr_multiplier': 13, 'ls_imba': 1}, 目标：1.0749439783362338\n",
      "2024-06-28 14:03:58.044837\t参数：{'window': 50, 'bband_width': 1.75, 'atr_multiplier': 13, 'ls_imba': 1}, 目标：1.0673010215108756\n",
      "2024-06-28 14:03:58.044837\t参数：{'window': 150, 'bband_width': 2.0, 'atr_multiplier': 13, 'ls_imba': 1}, 目标：1.0581374738572238\n",
      "2024-06-28 14:03:58.044837\t参数：{'window': 350, 'bband_width': 2.0, 'atr_multiplier': 13, 'ls_imba': 1}, 目标：1.046559172944626\n",
      "2024-06-28 14:03:58.044837\t参数：{'window': 450, 'bband_width': 1.75, 'atr_multiplier': 13, 'ls_imba': 1}, 目标：1.0089238371032687\n",
      "2024-06-28 14:03:58.044837\t参数：{'window': 450, 'bband_width': 1.5, 'atr_multiplier': 13, 'ls_imba': 1}, 目标：0.9597856073597913\n",
      "2024-06-28 14:03:58.044837\t参数：{'window': 500, 'bband_width': 1.5, 'atr_multiplier': 13, 'ls_imba': 1}, 目标：0.9364116095907963\n",
      "2024-06-28 14:03:58.044837\t参数：{'window': 500, 'bband_width': 1.75, 'atr_multiplier': 13, 'ls_imba': 1}, 目标：0.9225161095229244\n",
      "2024-06-28 14:03:58.044837\t参数：{'window': 450, 'bband_width': 2.0, 'atr_multiplier': 13, 'ls_imba': 1}, 目标：0.8896585608871181\n",
      "2024-06-28 14:03:58.044837\t参数：{'window': 400, 'bband_width': 1.75, 'atr_multiplier': 13, 'ls_imba': 1}, 目标：0.8870643698100361\n",
      "2024-06-28 14:03:58.044837\t参数：{'window': 400, 'bband_width': 2.0, 'atr_multiplier': 13, 'ls_imba': 1}, 目标：0.8029781370655109\n",
      "2024-06-28 14:03:58.044837\t参数：{'window': 500, 'bband_width': 2.0, 'atr_multiplier': 13, 'ls_imba': 1}, 目标：0.703279905460428\n"
     ]
    },
    {
     "data": {
      "text/plain": [
       "         2.00      1.50      1.75\n",
       "50   1.083932  1.090524  1.067301\n",
       "100  1.159572  1.165506  1.188637\n",
       "150  1.058137  1.271922  1.204162\n",
       "200  1.477949  1.179580  1.303462\n",
       "250  1.227295  1.145845  1.085171\n",
       "300  1.294894  1.192111  1.181943\n",
       "350  1.046559  1.354524  1.074944\n",
       "400  0.802978  1.089987  0.887064\n",
       "450  0.889659  0.959786  1.008924\n",
       "500  0.703280  0.936412  0.922516"
      ],
      "text/html": [
       "<div>\n",
       "<style scoped>\n",
       "    .dataframe tbody tr th:only-of-type {\n",
       "        vertical-align: middle;\n",
       "    }\n",
       "\n",
       "    .dataframe tbody tr th {\n",
       "        vertical-align: top;\n",
       "    }\n",
       "\n",
       "    .dataframe thead th {\n",
       "        text-align: right;\n",
       "    }\n",
       "</style>\n",
       "<table border=\"1\" class=\"dataframe\">\n",
       "  <thead>\n",
       "    <tr style=\"text-align: right;\">\n",
       "      <th></th>\n",
       "      <th>2.00</th>\n",
       "      <th>1.50</th>\n",
       "      <th>1.75</th>\n",
       "    </tr>\n",
       "  </thead>\n",
       "  <tbody>\n",
       "    <tr>\n",
       "      <th>50</th>\n",
       "      <td>1.083932</td>\n",
       "      <td>1.090524</td>\n",
       "      <td>1.067301</td>\n",
       "    </tr>\n",
       "    <tr>\n",
       "      <th>100</th>\n",
       "      <td>1.159572</td>\n",
       "      <td>1.165506</td>\n",
       "      <td>1.188637</td>\n",
       "    </tr>\n",
       "    <tr>\n",
       "      <th>150</th>\n",
       "      <td>1.058137</td>\n",
       "      <td>1.271922</td>\n",
       "      <td>1.204162</td>\n",
       "    </tr>\n",
       "    <tr>\n",
       "      <th>200</th>\n",
       "      <td>1.477949</td>\n",
       "      <td>1.179580</td>\n",
       "      <td>1.303462</td>\n",
       "    </tr>\n",
       "    <tr>\n",
       "      <th>250</th>\n",
       "      <td>1.227295</td>\n",
       "      <td>1.145845</td>\n",
       "      <td>1.085171</td>\n",
       "    </tr>\n",
       "    <tr>\n",
       "      <th>300</th>\n",
       "      <td>1.294894</td>\n",
       "      <td>1.192111</td>\n",
       "      <td>1.181943</td>\n",
       "    </tr>\n",
       "    <tr>\n",
       "      <th>350</th>\n",
       "      <td>1.046559</td>\n",
       "      <td>1.354524</td>\n",
       "      <td>1.074944</td>\n",
       "    </tr>\n",
       "    <tr>\n",
       "      <th>400</th>\n",
       "      <td>0.802978</td>\n",
       "      <td>1.089987</td>\n",
       "      <td>0.887064</td>\n",
       "    </tr>\n",
       "    <tr>\n",
       "      <th>450</th>\n",
       "      <td>0.889659</td>\n",
       "      <td>0.959786</td>\n",
       "      <td>1.008924</td>\n",
       "    </tr>\n",
       "    <tr>\n",
       "      <th>500</th>\n",
       "      <td>0.703280</td>\n",
       "      <td>0.936412</td>\n",
       "      <td>0.922516</td>\n",
       "    </tr>\n",
       "  </tbody>\n",
       "</table>\n",
       "</div>"
      ]
     },
     "execution_count": 5,
     "metadata": {},
     "output_type": "execute_result"
    }
   ],
   "execution_count": 5
  },
  {
   "metadata": {},
   "cell_type": "markdown",
   "source": "## CODES_MM",
   "id": "706c6f19a904a5a9"
  },
  {
   "metadata": {
    "ExecuteTime": {
     "end_time": "2024-06-28T06:06:40.782753Z",
     "start_time": "2024-06-28T06:06:40.438040Z"
    }
   },
   "cell_type": "code",
   "source": [
    "from Pandora.research import CODES_MM\n",
    "\n",
    "mc = get_mc(CODES_MM)\n"
   ],
   "id": "7d1cf3bb8d33fb62",
   "outputs": [],
   "execution_count": 6
  },
  {
   "metadata": {
    "ExecuteTime": {
     "end_time": "2024-06-28T06:06:49.305027Z",
     "start_time": "2024-06-28T06:06:42.341206Z"
    }
   },
   "cell_type": "code",
   "source": [
    "engine = BacktestingEngine()\n",
    "engine.contracts = {i.vt_symbol: i for i in mc}\n",
    "\n",
    "engine.set_parameters(\n",
    "    vt_symbols=[i.vt_symbol for i in mc],\n",
    "    interval=Interval.MINUTE_15,\n",
    "    start=datetime(2015, 1, 1),\n",
    "    end=datetime(2024, 6, 27),\n",
    "    rates={\n",
    "        i.vt_symbol: COMMISSION for i in mc\n",
    "    },\n",
    "    slippages={\n",
    "        i.vt_symbol: 0 for i in mc\n",
    "    },\n",
    "    sizes={\n",
    "        i.vt_symbol: i.size for i in mc\n",
    "    },\n",
    "    priceticks={\n",
    "        i.vt_symbol: i.pricetick for i in mc\n",
    "    },\n",
    "    capital=1e8,\n",
    ")\n",
    "\n",
    "engine.load_data()\n",
    "\n"
   ],
   "id": "a93b795a22506059",
   "outputs": [
    {
     "name": "stdout",
     "output_type": "stream",
     "text": [
      "2024-06-28 14:06:42.344199\t开始加载历史数据\n",
      "2024-06-28 14:06:42.352178\tAP00.CZCE历史数据加载完成，数据量：23655\n",
      "2024-06-28 14:06:43.226538\tCF00.CZCE历史数据加载完成，数据量：54324\n",
      "2024-06-28 14:06:43.246484\tFG00.CZCE历史数据加载完成，数据量：53294\n",
      "2024-06-28 14:06:43.269423\tMA00.CZCE历史数据加载完成，数据量：54324\n",
      "2024-06-28 14:06:43.277401\tSA00.CZCE历史数据加载完成，数据量：24624\n",
      "2024-06-28 14:06:44.082766\tSR00.CZCE历史数据加载完成，数据量：54324\n",
      "2024-06-28 14:06:44.101715\tTA00.CZCE历史数据加载完成，数据量：54324\n",
      "2024-06-28 14:06:44.134136\tal00.SHFE历史数据加载完成，数据量：69405\n",
      "2024-06-28 14:06:44.645793\tbu00.SHFE历史数据加载完成，数据量：54480\n",
      "2024-06-28 14:06:45.113051\tc00.DCE历史数据加载完成，数据量：43960\n",
      "2024-06-28 14:06:45.529444\tfu00.SHFE历史数据加载完成，数据量：38516\n",
      "2024-06-28 14:06:45.550388\thc00.SHFE历史数据加载完成，数据量：54480\n",
      "2024-06-28 14:06:45.569841\ti00.DCE历史数据加载完成，数据量：54938\n",
      "2024-06-28 14:06:45.589788\tj00.DCE历史数据加载完成，数据量：54938\n",
      "2024-06-28 14:06:45.625692\tjm00.DCE历史数据加载完成，数据量：54938\n",
      "2024-06-28 14:06:46.383193\tm00.DCE历史数据加载完成，数据量：54938\n",
      "2024-06-28 14:06:46.409123\tni00.SHFE历史数据加载完成，数据量：67705\n",
      "2024-06-28 14:06:46.428073\tp00.DCE历史数据加载完成，数据量：54938\n",
      "2024-06-28 14:06:46.904305\tpp00.DCE历史数据加载完成，数据量：43960\n",
      "2024-06-28 14:06:46.930236\trb00.SHFE历史数据加载完成，数据量：54480\n",
      "2024-06-28 14:06:47.444368\tru00.SHFE历史数据加载完成，数据量：51984\n",
      "2024-06-28 14:06:47.765509\tsp00.SHFE历史数据加载完成，数据量：30312\n",
      "2024-06-28 14:06:47.790442\tv00.DCE历史数据加载完成，数据量：43960\n",
      "2024-06-28 14:06:48.359932\ty00.DCE历史数据加载完成，数据量：54938\n",
      "2024-06-28 14:06:49.299043\tzn00.SHFE历史数据加载完成，数据量：69405\n",
      "2024-06-28 14:06:49.300040\t所有历史数据加载完成\n"
     ]
    }
   ],
   "execution_count": 7
  },
  {
   "metadata": {
    "ExecuteTime": {
     "end_time": "2024-06-28T06:19:13.892079Z",
     "start_time": "2024-06-28T06:06:58.074498Z"
    }
   },
   "cell_type": "code",
   "source": [
    "setting = {\n",
    "    \"window\": 50,\n",
    "}\n",
    "engine.add_strategy(MACDBBANDStrategy, setting)\n",
    "\n",
    "\n",
    "setting = OptimizationSetting()\n",
    "setting.set_target(\"sharpe_ratio\")\n",
    "setting.add_parameter(\"window\", 50, 500, 50)\n",
    "setting.add_parameter(\"bband_width\", 1.5, 2, 0.25)\n",
    "setting.add_parameter(\"atr_multiplier\", 11)\n",
    "\n",
    "opt_res = engine.run_bf_optimization(setting, max_workers=8)"
   ],
   "id": "ce8b128688705e0",
   "outputs": [
    {
     "name": "stdout",
     "output_type": "stream",
     "text": [
      "2024-06-28 14:06:58.077491\t开始执行穷举算法优化\n",
      "2024-06-28 14:06:58.077491\t参数优化空间：30\n"
     ]
    },
    {
     "name": "stderr",
     "output_type": "stream",
     "text": [
      "100%|██████████| 30/30 [12:03<00:00, 24.13s/it]\n"
     ]
    },
    {
     "name": "stdout",
     "output_type": "stream",
     "text": [
      "2024-06-28 14:19:06.049233\t穷举算法优化完成，耗时727秒\n",
      "2024-06-28 14:19:13.878092\t参数：{'window': 350, 'bband_width': 1.5, 'atr_multiplier': 11}, 目标：1.5118609359285895\n",
      "2024-06-28 14:19:13.879090\t参数：{'window': 250, 'bband_width': 1.75, 'atr_multiplier': 11}, 目标：1.299231132850395\n",
      "2024-06-28 14:19:13.879090\t参数：{'window': 50, 'bband_width': 1.5, 'atr_multiplier': 11}, 目标：1.2914193622217442\n",
      "2024-06-28 14:19:13.879090\t参数：{'window': 250, 'bband_width': 1.5, 'atr_multiplier': 11}, 目标：1.2880250953683596\n",
      "2024-06-28 14:19:13.879090\t参数：{'window': 200, 'bband_width': 1.5, 'atr_multiplier': 11}, 目标：1.2712647084839712\n",
      "2024-06-28 14:19:13.879090\t参数：{'window': 350, 'bband_width': 2.0, 'atr_multiplier': 11}, 目标：1.2643682498437556\n",
      "2024-06-28 14:19:13.879090\t参数：{'window': 450, 'bband_width': 1.75, 'atr_multiplier': 11}, 目标：1.2285012845448102\n",
      "2024-06-28 14:19:13.879090\t参数：{'window': 50, 'bband_width': 1.75, 'atr_multiplier': 11}, 目标：1.2146656502681035\n",
      "2024-06-28 14:19:13.879090\t参数：{'window': 200, 'bband_width': 2.0, 'atr_multiplier': 11}, 目标：1.1996456106293742\n",
      "2024-06-28 14:19:13.879090\t参数：{'window': 350, 'bband_width': 1.75, 'atr_multiplier': 11}, 目标：1.1986078525165365\n",
      "2024-06-28 14:19:13.879090\t参数：{'window': 250, 'bband_width': 2.0, 'atr_multiplier': 11}, 目标：1.1842474344114169\n",
      "2024-06-28 14:19:13.879090\t参数：{'window': 300, 'bband_width': 2.0, 'atr_multiplier': 11}, 目标：1.183104758676482\n",
      "2024-06-28 14:19:13.879090\t参数：{'window': 400, 'bband_width': 2.0, 'atr_multiplier': 11}, 目标：1.1764785322285394\n",
      "2024-06-28 14:19:13.879090\t参数：{'window': 150, 'bband_width': 1.75, 'atr_multiplier': 11}, 目标：1.1625629716737165\n",
      "2024-06-28 14:19:13.879090\t参数：{'window': 200, 'bband_width': 1.75, 'atr_multiplier': 11}, 目标：1.149787413459767\n",
      "2024-06-28 14:19:13.879090\t参数：{'window': 400, 'bband_width': 1.5, 'atr_multiplier': 11}, 目标：1.1466618729187887\n",
      "2024-06-28 14:19:13.879090\t参数：{'window': 400, 'bband_width': 1.75, 'atr_multiplier': 11}, 目标：1.1257445914938213\n",
      "2024-06-28 14:19:13.880087\t参数：{'window': 300, 'bband_width': 1.5, 'atr_multiplier': 11}, 目标：1.1247235098503716\n",
      "2024-06-28 14:19:13.880087\t参数：{'window': 100, 'bband_width': 1.5, 'atr_multiplier': 11}, 目标：1.0918757574136886\n",
      "2024-06-28 14:19:13.880087\t参数：{'window': 500, 'bband_width': 2.0, 'atr_multiplier': 11}, 目标：1.091552117686948\n",
      "2024-06-28 14:19:13.880087\t参数：{'window': 150, 'bband_width': 1.5, 'atr_multiplier': 11}, 目标：1.0779680866721164\n",
      "2024-06-28 14:19:13.880087\t参数：{'window': 300, 'bband_width': 1.75, 'atr_multiplier': 11}, 目标：1.0678808121705303\n",
      "2024-06-28 14:19:13.880087\t参数：{'window': 50, 'bband_width': 2.0, 'atr_multiplier': 11}, 目标：1.0676334381231913\n",
      "2024-06-28 14:19:13.880087\t参数：{'window': 150, 'bband_width': 2.0, 'atr_multiplier': 11}, 目标：1.054382943261677\n",
      "2024-06-28 14:19:13.880087\t参数：{'window': 500, 'bband_width': 1.5, 'atr_multiplier': 11}, 目标：1.0416364648241498\n",
      "2024-06-28 14:19:13.880087\t参数：{'window': 450, 'bband_width': 1.5, 'atr_multiplier': 11}, 目标：1.024813673190934\n",
      "2024-06-28 14:19:13.880087\t参数：{'window': 100, 'bband_width': 1.75, 'atr_multiplier': 11}, 目标：0.970494272309329\n",
      "2024-06-28 14:19:13.880087\t参数：{'window': 450, 'bband_width': 2.0, 'atr_multiplier': 11}, 目标：0.8628965507669615\n",
      "2024-06-28 14:19:13.880087\t参数：{'window': 100, 'bband_width': 2.0, 'atr_multiplier': 11}, 目标：0.830469229334856\n",
      "2024-06-28 14:19:13.880087\t参数：{'window': 500, 'bband_width': 1.75, 'atr_multiplier': 11}, 目标：0.7187799314830098\n"
     ]
    }
   ],
   "execution_count": 8
  },
  {
   "metadata": {
    "ExecuteTime": {
     "end_time": "2024-06-28T06:21:11.586550Z",
     "start_time": "2024-06-28T06:21:11.560620Z"
    }
   },
   "cell_type": "code",
   "source": [
    "sharpe_mat = pd.DataFrame()\n",
    "\n",
    "for res in opt_res:\n",
    "    param = res[0]\n",
    "    sharpe = res[1]\n",
    "    \n",
    "    sharpe_mat.loc[param['window'], param['bband_width']] = sharpe\n",
    "    \n",
    "sharpe_mat\n"
   ],
   "id": "7c56552b4369336",
   "outputs": [
    {
     "data": {
      "text/plain": [
       "         1.50      1.75      2.00\n",
       "350  1.511861  1.198608  1.264368\n",
       "250  1.288025  1.299231  1.184247\n",
       "50   1.291419  1.214666  1.067633\n",
       "200  1.271265  1.149787  1.199646\n",
       "450  1.024814  1.228501  0.862897\n",
       "300  1.124724  1.067881  1.183105\n",
       "400  1.146662  1.125745  1.176479\n",
       "150  1.077968  1.162563  1.054383\n",
       "100  1.091876  0.970494  0.830469\n",
       "500  1.041636  0.718780  1.091552"
      ],
      "text/html": [
       "<div>\n",
       "<style scoped>\n",
       "    .dataframe tbody tr th:only-of-type {\n",
       "        vertical-align: middle;\n",
       "    }\n",
       "\n",
       "    .dataframe tbody tr th {\n",
       "        vertical-align: top;\n",
       "    }\n",
       "\n",
       "    .dataframe thead th {\n",
       "        text-align: right;\n",
       "    }\n",
       "</style>\n",
       "<table border=\"1\" class=\"dataframe\">\n",
       "  <thead>\n",
       "    <tr style=\"text-align: right;\">\n",
       "      <th></th>\n",
       "      <th>1.50</th>\n",
       "      <th>1.75</th>\n",
       "      <th>2.00</th>\n",
       "    </tr>\n",
       "  </thead>\n",
       "  <tbody>\n",
       "    <tr>\n",
       "      <th>350</th>\n",
       "      <td>1.511861</td>\n",
       "      <td>1.198608</td>\n",
       "      <td>1.264368</td>\n",
       "    </tr>\n",
       "    <tr>\n",
       "      <th>250</th>\n",
       "      <td>1.288025</td>\n",
       "      <td>1.299231</td>\n",
       "      <td>1.184247</td>\n",
       "    </tr>\n",
       "    <tr>\n",
       "      <th>50</th>\n",
       "      <td>1.291419</td>\n",
       "      <td>1.214666</td>\n",
       "      <td>1.067633</td>\n",
       "    </tr>\n",
       "    <tr>\n",
       "      <th>200</th>\n",
       "      <td>1.271265</td>\n",
       "      <td>1.149787</td>\n",
       "      <td>1.199646</td>\n",
       "    </tr>\n",
       "    <tr>\n",
       "      <th>450</th>\n",
       "      <td>1.024814</td>\n",
       "      <td>1.228501</td>\n",
       "      <td>0.862897</td>\n",
       "    </tr>\n",
       "    <tr>\n",
       "      <th>300</th>\n",
       "      <td>1.124724</td>\n",
       "      <td>1.067881</td>\n",
       "      <td>1.183105</td>\n",
       "    </tr>\n",
       "    <tr>\n",
       "      <th>400</th>\n",
       "      <td>1.146662</td>\n",
       "      <td>1.125745</td>\n",
       "      <td>1.176479</td>\n",
       "    </tr>\n",
       "    <tr>\n",
       "      <th>150</th>\n",
       "      <td>1.077968</td>\n",
       "      <td>1.162563</td>\n",
       "      <td>1.054383</td>\n",
       "    </tr>\n",
       "    <tr>\n",
       "      <th>100</th>\n",
       "      <td>1.091876</td>\n",
       "      <td>0.970494</td>\n",
       "      <td>0.830469</td>\n",
       "    </tr>\n",
       "    <tr>\n",
       "      <th>500</th>\n",
       "      <td>1.041636</td>\n",
       "      <td>0.718780</td>\n",
       "      <td>1.091552</td>\n",
       "    </tr>\n",
       "  </tbody>\n",
       "</table>\n",
       "</div>"
      ]
     },
     "execution_count": 9,
     "metadata": {},
     "output_type": "execute_result"
    }
   ],
   "execution_count": 9
  }
 ],
 "metadata": {
  "kernelspec": {
   "display_name": "Python 3",
   "language": "python",
   "name": "python3"
  },
  "language_info": {
   "codemirror_mode": {
    "name": "ipython",
    "version": 2
   },
   "file_extension": ".py",
   "mimetype": "text/x-python",
   "name": "python",
   "nbconvert_exporter": "python",
   "pygments_lexer": "ipython2",
   "version": "2.7.6"
  }
 },
 "nbformat": 4,
 "nbformat_minor": 5
}
