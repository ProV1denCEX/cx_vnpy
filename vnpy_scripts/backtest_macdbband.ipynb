{
 "cells": [
  {
   "metadata": {},
   "cell_type": "code",
   "outputs": [],
   "execution_count": null,
   "source": [
    "from tqdm.auto import tqdm\n",
    "import multiprocessing\n",
    "import sys\n",
    "from datetime import datetime\n",
    "from time import sleep\n",
    "import datetime as dt\n",
    "import pandas as pd\n",
    "\n",
    "from Pandora.helper import TDays\n",
    "from Pandora.research.backtest import CODES_SHORT, calc_sharpe, COMMISSION, CODES_TRADABLE_SL\n",
    "from vnpy.app.vnpy_portfoliostrategy.strategies.macd_bband_strategy import MACDBBANDStrategy, MACDBBANDX2DStrategy\n",
    "from vnpy.trader.constant import Interval, Product\n",
    "from vnpy.trader.optimize import OptimizationSetting\n",
    "from vnpy.trader.setting import SETTINGS\n",
    "from logging import INFO\n",
    "from vnpy.app.vnpy_portfoliostrategy import BacktestingEngine\n",
    "\n",
    "SETTINGS[\"log.active\"] = True\n",
    "SETTINGS[\"log.level\"] = INFO\n",
    "SETTINGS[\"log.console\"] = True\n",
    "\n"
   ],
   "id": "7cc56a3728654bff"
  },
  {
   "metadata": {},
   "cell_type": "code",
   "outputs": [],
   "execution_count": null,
   "source": [
    "def get_mc(codes):\n",
    "    from vnpy.trader.database import get_database\n",
    "\n",
    "    database = get_database()\n",
    "    today = datetime.combine(TDays.get_tday(fmt=None), dt.time(0))\n",
    "    contracts = database.load_contract_data(product=Product.FUTURES, start=today, end=today)\n",
    "    mc = [i for i in contracts if i.symbol.endswith('00') and i.product_id in codes]\n",
    "\n",
    "    return mc\n"
   ],
   "id": "4cea7793e0e3417c"
  },
  {
   "metadata": {},
   "cell_type": "code",
   "outputs": [],
   "execution_count": null,
   "source": [
    "mc = get_mc(CODES_SHORT)\n",
    "# mc = get_mc(CODES_SHORT | {'lc', 'ec', 'si', 'ao'})\n"
   ],
   "id": "22b107bba7a4dd5c"
  },
  {
   "metadata": {},
   "cell_type": "code",
   "outputs": [],
   "execution_count": null,
   "source": [
    "engine = BacktestingEngine()\n",
    "engine.contracts = {i.vt_symbol: i for i in mc}\n",
    "\n",
    "engine.set_parameters(\n",
    "    vt_symbols=[i.vt_symbol for i in mc],\n",
    "    interval=Interval.MINUTE_15,\n",
    "    start=datetime(2015, 1, 1),\n",
    "    end=datetime(2024, 8, 16),\n",
    "    rates={\n",
    "        i.vt_symbol: COMMISSION for i in mc\n",
    "    },\n",
    "    slippages={\n",
    "        i.vt_symbol: 0 for i in mc\n",
    "    },\n",
    "    sizes={\n",
    "        i.vt_symbol: i.size for i in mc\n",
    "    },\n",
    "    priceticks={\n",
    "        i.vt_symbol: i.pricetick for i in mc\n",
    "    },\n",
    "    capital=1e8,\n",
    ")\n",
    "\n",
    "engine.load_data()\n",
    "\n"
   ],
   "id": "e4938d1d3b5faa51"
  },
  {
   "metadata": {},
   "cell_type": "code",
   "outputs": [],
   "execution_count": null,
   "source": [
    "engine.clear_data()\n",
    "setting = {\n",
    "    \"window\": 350,\n",
    "    \"bband_width\": 1.5,\n",
    "}\n",
    "engine.add_strategy(MACDBBANDStrategy, setting)\n",
    "\n",
    "engine.run_backtesting()\n",
    "df = engine.calculate_result()\n",
    "\n",
    "daily_base = pd.Series(df['net_pnl'] / engine.capital, index=pd.to_datetime(df.index))\n",
    "daily_base.cumsum().plot(figsize=(16, 9))\n",
    "calc_sharpe(daily_base)"
   ],
   "id": "53313021102742c2"
  },
  {
   "metadata": {},
   "cell_type": "code",
   "outputs": [],
   "execution_count": null,
   "source": [
    "desc, rounds = engine.describe_trades()\n",
    "rounds"
   ],
   "id": "27bb89ccbb59dd41"
  },
  {
   "metadata": {},
   "cell_type": "code",
   "outputs": [],
   "execution_count": null,
   "source": [
    "from vnpy.trader.constant import Direction\n",
    "\n",
    "def rounds_to_open_signal(rounds):\n",
    "    open_signal = pd.DataFrame()\n",
    "    \n",
    "    for i in range(len(rounds)):\n",
    "        symbol = rounds['symbol'].iat[i]\n",
    "        direction = rounds['direction'].iat[i]\n",
    "        open_time = rounds['open_time'].iat[i]\n",
    "        close_time = rounds['close_time'].iat[i]\n",
    "        \n",
    "        if direction == Direction.LONG:\n",
    "            open_signal.loc[open_time, symbol] = 1\n",
    "        else:\n",
    "            open_signal.loc[open_time, symbol] = -1\n",
    "    \n",
    "        open_signal.loc[close_time, symbol] = 0\n",
    "    \n",
    "    open_signal.index = open_signal.index.tz_localize(None)\n",
    "    open_signal = open_signal.sort_index()\n",
    "    \n",
    "    return open_signal"
   ],
   "id": "5f69d1606bfd9c4"
  },
  {
   "metadata": {},
   "cell_type": "code",
   "outputs": [],
   "execution_count": null,
   "source": [
    "from Pandora.constant import Frequency\n",
    "from Pandora.research import *\n",
    "\n",
    "codes = CODES_TRADABLE_SL\n",
    "quote_bt, ret = get_quote(codes, end=dt.datetime.now(), freq=Frequency.Min_15)\n",
    "weight = get_weight_by_std_minus(quote_bt, 100, n=3)\n"
   ],
   "id": "7822c4f1e9835f06"
  },
  {
   "metadata": {},
   "cell_type": "code",
   "outputs": [],
   "execution_count": null,
   "source": [
    "weight = weight.loc[:datetime(2024, 8, 16), :]\n",
    "ret = ret.loc[:datetime(2024, 8, 16), :]\n",
    "open_signal = rounds_to_open_signal(rounds)\n",
    "_, open_signal = ret.align(open_signal, join='left')\n",
    "daily_base = backtest_factor(open_signal, weight, ret, COMMISSION)\n",
    "\n",
    "daily_base.cumsum().plot(figsize=(16, 9))\n",
    "calc_sharpe(daily_base)"
   ],
   "id": "4858dc85be176ceb"
  },
  {
   "metadata": {},
   "cell_type": "markdown",
   "source": [
    "## Full set\n",
    "\n",
    "- CODES_SHORT\n",
    "- Vol exit\n",
    "- LS imba"
   ],
   "id": "3e9931e9bc2924a6"
  },
  {
   "metadata": {},
   "cell_type": "markdown",
   "source": "### ATR multiplier = 11",
   "id": "a8e8a6b4b630aeaf"
  },
  {
   "metadata": {},
   "cell_type": "code",
   "outputs": [],
   "execution_count": null,
   "source": [
    "setting = {\n",
    "    \"window\": 50,\n",
    "}\n",
    "engine.add_strategy(MACDBBANDX2DStrategy, setting)\n",
    "\n",
    "\n",
    "setting = OptimizationSetting()\n",
    "setting.set_target(\"sharpe_ratio\")\n",
    "setting.add_parameter(\"window\", 50, 500, 50)\n",
    "setting.add_parameter(\"bband_width\", 1.5, 2, 0.25)\n",
    "setting.add_parameter(\"atr_multiplier\", 11)\n",
    "setting.add_parameter(\"weighting_method\", 0, 3, 1)\n",
    "\n",
    "opt_res = engine.run_bf_optimization(setting, max_workers=10)"
   ],
   "id": "428b7913c5d3419f"
  },
  {
   "metadata": {},
   "cell_type": "code",
   "source": [
    "for res in opt_res:\n",
    "    rounds = res[3]\n",
    "    open_signal = rounds_to_open_signal(rounds)\n",
    "    \n",
    "    params = '_'.join((str(k) + \"_\" + str(v) for k, v in res[0].items()))\n",
    "    strategy_id = f\"MACDBBANDStrategy_{params}\"\n",
    "    open_signal.to_parquet(strategy_id + \".parquet\")"
   ],
   "id": "99de626d506a6145",
   "outputs": [],
   "execution_count": null
  },
  {
   "metadata": {},
   "cell_type": "code",
   "outputs": [],
   "execution_count": null,
   "source": [
    "sharpe_mat = []\n",
    "for res in opt_res:\n",
    "    \n",
    "    param = res[0].copy()\n",
    "    sharpe = res[1]\n",
    "    stat = res[2]\n",
    "    \n",
    "    param.update(stat)\n",
    "    sharpe_mat.append(param)\n",
    "    \n",
    "stats = pd.DataFrame(sharpe_mat)\n",
    "stats"
   ],
   "id": "891cbceddf4240c2"
  },
  {
   "metadata": {},
   "cell_type": "code",
   "outputs": [],
   "execution_count": null,
   "source": [
    "\n",
    "for bband_width in [1.5, 1.75, 2]:\n",
    "    loc = (stats['bband_width'] == bband_width)\n",
    "    tmp = stats[loc]\n",
    "    mat = tmp.pivot(index='window', columns='weighting_method', values='sharpe_ratio')\n",
    "    \n",
    "    display(f\"bband_width = {bband_width}\")\n",
    "    display(mat)\n",
    "    display(mat.mean())"
   ],
   "id": "f9d0ed41073801fb"
  },
  {
   "metadata": {},
   "cell_type": "code",
   "outputs": [],
   "execution_count": null,
   "source": [
    "sharpe_mat = pd.DataFrame()\n",
    "\n",
    "for res in opt_res:\n",
    "    param = res[0]\n",
    "    sharpe = res[1]\n",
    "    \n",
    "    sharpe_mat.loc[param['window'], param['bband_width']] = sharpe\n",
    "    \n",
    "sharpe_mat.sort_index().iloc[:, [0, 2, 1]]\n"
   ],
   "id": "8529c376ee291821"
  },
  {
   "metadata": {},
   "cell_type": "markdown",
   "source": "### ATR multiplier = 13",
   "id": "d8f1e98b3545e4ea"
  },
  {
   "metadata": {},
   "cell_type": "code",
   "outputs": [],
   "execution_count": null,
   "source": [
    "setting = {\n",
    "    \"window\": 50,\n",
    "}\n",
    "engine.add_strategy(MACDBBANDX2DStrategy, setting)\n",
    "\n",
    "\n",
    "setting = OptimizationSetting()\n",
    "setting.set_target(\"sharpe_ratio\")\n",
    "setting.add_parameter(\"window\", 50, 500, 50)\n",
    "setting.add_parameter(\"bband_width\", 1.5, 2, 0.25)\n",
    "setting.add_parameter(\"atr_multiplier\", 13)\n",
    "setting.add_parameter(\"weighting_method\", 0, 3, 1)\n",
    "\n",
    "opt_res = engine.run_bf_optimization(setting, max_workers=30)"
   ],
   "id": "6b332f73779b0e7f"
  },
  {
   "metadata": {},
   "cell_type": "code",
   "outputs": [],
   "execution_count": null,
   "source": [
    "sharpe_mat = []\n",
    "for res in opt_res:\n",
    "    \n",
    "    param = res[0].copy()\n",
    "    sharpe = res[1]\n",
    "    stat = res[2]\n",
    "    \n",
    "    param.update(stat)\n",
    "    sharpe_mat.append(param)\n",
    "    \n",
    "stats = pd.DataFrame(sharpe_mat)\n",
    "\n",
    "for bband_width in [1.5, 1.75, 2]:\n",
    "    loc = (stats['bband_width'] == bband_width)\n",
    "    tmp = stats[loc]\n",
    "    mat = tmp.pivot(index='window', columns='weighting_method', values='sharpe_ratio')\n",
    "    \n",
    "    display(f\"bband_width = {bband_width}\")\n",
    "    display(mat)\n",
    "    display(mat.mean())"
   ],
   "id": "db238c4f63dd9b7b"
  },
  {
   "metadata": {},
   "cell_type": "code",
   "outputs": [],
   "execution_count": null,
   "source": [
    "setting = {\n",
    "    \"window\": 50,\n",
    "}\n",
    "engine.add_strategy(MACDBBANDStrategy, setting)\n",
    "\n",
    "\n",
    "setting = OptimizationSetting()\n",
    "setting.set_target(\"sharpe_ratio\")\n",
    "setting.add_parameter(\"window\", 50, 500, 50)\n",
    "setting.add_parameter(\"bband_width\", 1.5, 2, 0.25)\n",
    "setting.add_parameter(\"atr_multiplier\", 13)\n",
    "\n",
    "opt_res = engine.run_bf_optimization(setting, max_workers=5)\n",
    "\n",
    "sharpe_mat = pd.DataFrame()\n",
    "\n",
    "for res in opt_res:\n",
    "    param = res[0]\n",
    "    sharpe = res[1]\n",
    "\n",
    "    sharpe_mat.loc[param['window'], param['bband_width']] = sharpe\n",
    "\n",
    "sharpe_mat.sort_index()"
   ],
   "id": "e46c23c8391d5d92"
  },
  {
   "metadata": {},
   "cell_type": "code",
   "source": [
    "for res in opt_res:\n",
    "    rounds = res[3]\n",
    "    open_signal = rounds_to_open_signal(rounds)\n",
    "    \n",
    "    params = '_'.join((str(k) + \"_\" + str(v) for k, v in res[0].items()))\n",
    "    strategy_id = f\"MACDBBANDStrategy_{params}\"\n",
    "    open_signal.to_parquet(strategy_id + \".parquet\")"
   ],
   "id": "54c7da3af4bd5314",
   "outputs": [],
   "execution_count": null
  },
  {
   "metadata": {},
   "cell_type": "markdown",
   "source": "## LS balance",
   "id": "6be6510e262dc13c"
  },
  {
   "metadata": {},
   "cell_type": "code",
   "source": [
    "setting = {\n",
    "    \"window\": 50,\n",
    "}\n",
    "engine.add_strategy(MACDBBANDStrategy, setting)\n",
    "\n",
    "\n",
    "setting = OptimizationSetting()\n",
    "setting.set_target(\"sharpe_ratio\")\n",
    "setting.add_parameter(\"window\", 50, 500, 50)\n",
    "setting.add_parameter(\"bband_width\", 1.5, 2, 0.25)\n",
    "setting.add_parameter(\"atr_multiplier\", 13)\n",
    "setting.add_parameter(\"ls_imba\", 1)\n",
    "\n",
    "opt_res = engine.run_bf_optimization(setting, max_workers=10)\n",
    "\n",
    "sharpe_mat = pd.DataFrame()\n",
    "\n",
    "for res in opt_res:\n",
    "    param = res[0]\n",
    "    sharpe = res[1]\n",
    "\n",
    "    sharpe_mat.loc[param['window'], param['bband_width']] = sharpe\n",
    "\n",
    "sharpe_mat.sort_index()"
   ],
   "id": "f4874f19b50b3dc0",
   "outputs": [],
   "execution_count": null
  },
  {
   "metadata": {},
   "cell_type": "markdown",
   "source": "## CODES_MM",
   "id": "706c6f19a904a5a9"
  },
  {
   "metadata": {},
   "cell_type": "code",
   "source": [
    "from Pandora.research import CODES_MM\n",
    "\n",
    "mc = get_mc(CODES_MM)\n"
   ],
   "id": "7d1cf3bb8d33fb62",
   "outputs": [],
   "execution_count": null
  },
  {
   "metadata": {},
   "cell_type": "code",
   "source": [
    "engine = BacktestingEngine()\n",
    "engine.contracts = {i.vt_symbol: i for i in mc}\n",
    "\n",
    "engine.set_parameters(\n",
    "    vt_symbols=[i.vt_symbol for i in mc],\n",
    "    interval=Interval.MINUTE_15,\n",
    "    start=datetime(2015, 1, 1),\n",
    "    end=datetime(2024, 6, 27),\n",
    "    rates={\n",
    "        i.vt_symbol: COMMISSION for i in mc\n",
    "    },\n",
    "    slippages={\n",
    "        i.vt_symbol: 0 for i in mc\n",
    "    },\n",
    "    sizes={\n",
    "        i.vt_symbol: i.size for i in mc\n",
    "    },\n",
    "    priceticks={\n",
    "        i.vt_symbol: i.pricetick for i in mc\n",
    "    },\n",
    "    capital=1e8,\n",
    ")\n",
    "\n",
    "engine.load_data()\n",
    "\n"
   ],
   "id": "a93b795a22506059",
   "outputs": [],
   "execution_count": null
  },
  {
   "metadata": {},
   "cell_type": "code",
   "source": [
    "setting = {\n",
    "    \"window\": 50,\n",
    "}\n",
    "engine.add_strategy(MACDBBANDStrategy, setting)\n",
    "\n",
    "\n",
    "setting = OptimizationSetting()\n",
    "setting.set_target(\"sharpe_ratio\")\n",
    "setting.add_parameter(\"window\", 50, 500, 50)\n",
    "setting.add_parameter(\"bband_width\", 1.5, 2, 0.25)\n",
    "setting.add_parameter(\"atr_multiplier\", 11)\n",
    "\n",
    "opt_res = engine.run_bf_optimization(setting, max_workers=8)"
   ],
   "id": "ce8b128688705e0",
   "outputs": [],
   "execution_count": null
  },
  {
   "metadata": {},
   "cell_type": "code",
   "source": [
    "sharpe_mat = pd.DataFrame()\n",
    "\n",
    "for res in opt_res:\n",
    "    param = res[0]\n",
    "    sharpe = res[1]\n",
    "    \n",
    "    sharpe_mat.loc[param['window'], param['bband_width']] = sharpe\n",
    "    \n",
    "sharpe_mat\n"
   ],
   "id": "7c56552b4369336",
   "outputs": [],
   "execution_count": null
  }
 ],
 "metadata": {
  "kernelspec": {
   "display_name": "Python 3",
   "language": "python",
   "name": "python3"
  },
  "language_info": {
   "codemirror_mode": {
    "name": "ipython",
    "version": 2
   },
   "file_extension": ".py",
   "mimetype": "text/x-python",
   "name": "python",
   "nbconvert_exporter": "python",
   "pygments_lexer": "ipython2",
   "version": "2.7.6"
  }
 },
 "nbformat": 4,
 "nbformat_minor": 5
}
