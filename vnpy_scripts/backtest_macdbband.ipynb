{
 "cells": [
  {
   "cell_type": "code",
   "id": "initial_id",
   "metadata": {
    "collapsed": true,
    "ExecuteTime": {
     "end_time": "2024-08-21T07:51:26.490280Z",
     "start_time": "2024-08-21T07:51:25.645540Z"
    }
   },
   "source": [
    "from tqdm.auto import tqdm\n",
    "import multiprocessing\n",
    "import sys\n",
    "from datetime import datetime\n",
    "from time import sleep\n",
    "import datetime as dt\n",
    "import pandas as pd\n",
    "\n",
    "from Pandora.helper import TDays\n",
    "from Pandora.research.backtest import CODES_SHORT, calc_sharpe, COMMISSION, CODES_TRADABLE_SL\n",
    "from vnpy.app.vnpy_portfoliostrategy.strategies.macd_bband_strategy import MACDBBANDStrategy\n",
    "from vnpy.trader.constant import Interval, Product\n",
    "from vnpy.trader.optimize import OptimizationSetting\n",
    "from vnpy.trader.setting import SETTINGS\n",
    "from logging import INFO\n",
    "from vnpy.app.vnpy_portfoliostrategy import BacktestingEngine\n",
    "\n",
    "SETTINGS[\"log.active\"] = True\n",
    "SETTINGS[\"log.level\"] = INFO\n",
    "SETTINGS[\"log.console\"] = True\n",
    "\n"
   ],
   "outputs": [],
   "execution_count": 1
  },
  {
   "metadata": {
    "ExecuteTime": {
     "end_time": "2024-08-21T07:51:26.506237Z",
     "start_time": "2024-08-21T07:51:26.491278Z"
    }
   },
   "cell_type": "code",
   "source": [
    "def get_mc(codes):\n",
    "    from vnpy.trader.database import get_database\n",
    "\n",
    "    database = get_database()\n",
    "    today = datetime.combine(TDays.get_tday(fmt=None), dt.time(0))\n",
    "    contracts = database.load_contract_data(product=Product.FUTURES, start=today, end=today)\n",
    "    mc = [i for i in contracts if i.symbol.endswith('00') and i.product_id in codes]\n",
    "\n",
    "    return mc\n"
   ],
   "id": "275e1ff16e869a53",
   "outputs": [],
   "execution_count": 2
  },
  {
   "metadata": {
    "ExecuteTime": {
     "end_time": "2024-08-21T08:08:43.553313Z",
     "start_time": "2024-08-21T08:08:43.392863Z"
    }
   },
   "cell_type": "code",
   "source": "mc = get_mc(CODES_SHORT | {'lc', 'ec', 'si', 'ao'})\n",
   "id": "403b9e7476c321e2",
   "outputs": [],
   "execution_count": 7
  },
  {
   "metadata": {
    "ExecuteTime": {
     "end_time": "2024-08-21T08:08:47.211374Z",
     "start_time": "2024-08-21T08:08:46.319759Z"
    }
   },
   "cell_type": "code",
   "source": [
    "engine = BacktestingEngine()\n",
    "engine.contracts = {i.vt_symbol: i for i in mc}\n",
    "\n",
    "engine.set_parameters(\n",
    "    vt_symbols=[i.vt_symbol for i in mc],\n",
    "    interval=Interval.MINUTE_15,\n",
    "    start=datetime(2015, 1, 1),\n",
    "    end=datetime(2024, 8, 16),\n",
    "    rates={\n",
    "        i.vt_symbol: COMMISSION for i in mc\n",
    "    },\n",
    "    slippages={\n",
    "        i.vt_symbol: 0 for i in mc\n",
    "    },\n",
    "    sizes={\n",
    "        i.vt_symbol: i.size for i in mc\n",
    "    },\n",
    "    priceticks={\n",
    "        i.vt_symbol: i.pricetick for i in mc\n",
    "    },\n",
    "    capital=1e8,\n",
    ")\n",
    "\n",
    "engine.load_data()\n",
    "\n"
   ],
   "id": "4a8e4d55ee77d451",
   "outputs": [
    {
     "name": "stdout",
     "output_type": "stream",
     "text": [
      "2024-08-21 16:08:46.321754\t开始加载历史数据\n",
      "2024-08-21 16:08:46.329732\tAP00.CZCE历史数据加载完成，数据量：24195\n",
      "2024-08-21 16:08:46.336714\tCJ00.CZCE历史数据加载完成，数据量：19290\n",
      "2024-08-21 16:08:46.358655\tFG00.CZCE历史数据加载完成，数据量：54122\n",
      "2024-08-21 16:08:46.378601\tMA00.CZCE历史数据加载完成，数据量：55152\n",
      "2024-08-21 16:08:46.387577\tPF00.CZCE历史数据加载完成，数据量：21336\n",
      "2024-08-21 16:08:46.396553\tPK00.CZCE历史数据加载完成，数据量：12855\n",
      "2024-08-21 16:08:46.407524\tSA00.CZCE历史数据加载完成，数据量：25452\n",
      "2024-08-21 16:08:46.430462\tTA00.CZCE历史数据加载完成，数据量：55152\n",
      "2024-08-21 16:08:46.436446\tUR00.CZCE历史数据加载完成，数据量：18255\n",
      "2024-08-21 16:08:46.479332\tag00.SHFE历史数据加载完成，数据量：83799\n",
      "2024-08-21 16:08:46.505262\tal00.SHFE历史数据加载完成，数据量：70521\n",
      "2024-08-21 16:08:46.767561\tao00.SHFE历史数据加载完成，数据量：8058\n",
      "2024-08-21 16:08:46.798478\tcu00.SHFE历史数据加载完成，数据量：70521\n",
      "2024-08-21 16:08:46.809448\teb00.DCE历史数据加载完成，数据量：26496\n",
      "2024-08-21 16:08:46.848344\tec00.INE历史数据加载完成，数据量：3540\n",
      "2024-08-21 16:08:46.861310\teg00.DCE历史数据加载完成，数据量：30373\n",
      "2024-08-21 16:08:46.886243\thc00.SHFE历史数据加载完成，数据量：55308\n",
      "2024-08-21 16:08:46.912174\ti00.DCE历史数据加载完成，数据量：55766\n",
      "2024-08-21 16:08:46.951070\tj00.DCE历史数据加载完成，数据量：55766\n",
      "2024-08-21 16:08:46.975006\tjm00.DCE历史数据加载完成，数据量：55766\n",
      "2024-08-21 16:08:47.017892\tlc00.GFEX历史数据加载完成，数据量：3855\n",
      "2024-08-21 16:08:47.022878\tlh00.DCE历史数据加载完成，数据量：13095\n",
      "2024-08-21 16:08:47.050803\tni00.SHFE历史数据加载完成，数据量：68821\n",
      "2024-08-21 16:08:47.073742\tp00.DCE历史数据加载完成，数据量：55766\n",
      "2024-08-21 16:08:47.083715\tpg00.DCE历史数据加载完成，数据量：24080\n",
      "2024-08-21 16:08:47.105656\trb00.SHFE历史数据加载完成，数据量：55308\n",
      "2024-08-21 16:08:47.127598\tsc00.INE历史数据加载完成，数据量：55186\n",
      "2024-08-21 16:08:47.186440\tsi00.GFEX历史数据加载完成，数据量：5700\n",
      "2024-08-21 16:08:47.206387\tv00.DCE历史数据加载完成，数据量：44788\n",
      "2024-08-21 16:08:47.206387\t所有历史数据加载完成\n"
     ]
    }
   ],
   "execution_count": 8
  },
  {
   "metadata": {
    "ExecuteTime": {
     "end_time": "2024-08-21T08:30:34.654861Z",
     "start_time": "2024-08-21T08:29:10.597658Z"
    }
   },
   "cell_type": "code",
   "source": [
    "engine.clear_data()\n",
    "setting = {\n",
    "    \"window\": 350,\n",
    "    \"bband_width\": 1.5,\n",
    "}\n",
    "engine.add_strategy(MACDBBANDStrategy, setting)\n",
    "\n",
    "engine.run_backtesting()\n",
    "df = engine.calculate_result()\n",
    "\n",
    "daily_base = pd.Series(df['net_pnl'] / engine.capital, index=pd.to_datetime(df.index))\n",
    "daily_base.cumsum().plot(figsize=(16, 9))\n",
    "calc_sharpe(daily_base)"
   ],
   "id": "37e73a93f6cd6550",
   "outputs": [
    {
     "name": "stdout",
     "output_type": "stream",
     "text": [
      "2024-08-21 16:29:11.043465\t策略初始化完成\n",
      "2024-08-21 16:29:11.044463\t开始回放历史数据\n"
     ]
    },
    {
     "data": {
      "text/plain": [
       "回放历史数据:   0%|          | 0/79805 [00:00<?, ?it/s]"
      ],
      "application/vnd.jupyter.widget-view+json": {
       "version_major": 2,
       "version_minor": 0,
       "model_id": "77d099bc8f2a44b395e885f328a51753"
      },
      "application/json": {
       "n": 0,
       "total": 79805,
       "elapsed": 0.003988981246948242,
       "ncols": null,
       "nrows": null,
       "prefix": "回放历史数据",
       "ascii": false,
       "unit": "it",
       "unit_scale": false,
       "rate": null,
       "bar_format": null,
       "postfix": null,
       "unit_divisor": 1000,
       "initial": 0,
       "colour": null
      }
     },
     "metadata": {},
     "output_type": "display_data"
    },
    {
     "name": "stdout",
     "output_type": "stream",
     "text": [
      "2024-08-21 16:30:33.885918\t历史数据回放结束\n",
      "2024-08-21 16:30:33.886916\t开始计算逐日盯市盈亏\n",
      "2024-08-21 16:30:33.985651\t逐日盯市盈亏计算完成\n"
     ]
    },
    {
     "data": {
      "text/plain": [
       "1.6708905781916017"
      ]
     },
     "execution_count": 14,
     "metadata": {},
     "output_type": "execute_result"
    },
    {
     "data": {
      "text/plain": [
       "<Figure size 1152x648 with 1 Axes>"
      ],
      "image/png": "[encoded data removed]"
     },
     "metadata": {
      "needs_background": "light"
     },
     "output_type": "display_data"
    }
   ],
   "execution_count": 14
  },
  {
   "metadata": {
    "ExecuteTime": {
     "end_time": "2024-08-21T02:01:38.138142Z",
     "start_time": "2024-08-21T02:01:35.805911Z"
    }
   },
   "cell_type": "code",
   "source": [
    "desc, rounds = engine.describe_trades()\n",
    "rounds"
   ],
   "id": "c8dadb3e99c84a02",
   "outputs": [
    {
     "data": {
      "text/plain": [
       "   symbol        direction                  open_time    open_price  \\\n",
       "0    AP00   Direction.LONG  2018-06-08 14:00:00+08:00   8885.813828   \n",
       "1    AP00  Direction.SHORT  2018-07-05 14:15:00+08:00   9555.614159   \n",
       "2    AP00  Direction.SHORT  2018-10-09 14:30:00+08:00  10998.514315   \n",
       "3    AP00  Direction.SHORT  2018-11-19 11:00:00+08:00       10765.0   \n",
       "4    AP00   Direction.LONG  2019-02-18 11:15:00+08:00        9734.0   \n",
       "..    ...              ...                        ...           ...   \n",
       "79   zn00   Direction.LONG  2024-02-01 09:45:00+08:00       23145.0   \n",
       "80   zn00  Direction.SHORT  2024-02-08 14:45:00+08:00  22626.265874   \n",
       "81   zn00   Direction.LONG  2024-03-14 11:15:00+08:00  23779.934956   \n",
       "82   zn00   Direction.LONG  2024-04-11 09:45:00+08:00  25026.664881   \n",
       "83   zn00   Direction.LONG  2024-05-14 10:45:00+08:00       26135.0   \n",
       "\n",
       "                   close_time   close_price volume       pnl         hp  \n",
       "0   2018-06-19 09:15:00+08:00  10344.694001     16  0.164181  10.802083  \n",
       "1   2018-07-19 09:30:00+08:00        9482.0     14  0.007704  13.802083  \n",
       "2   2018-10-26 21:00:00+08:00  10444.746897     10  0.050349  17.270833  \n",
       "3   2018-12-07 13:45:00+08:00       10269.0     18  0.046075  18.114583  \n",
       "4   2019-03-04 09:15:00+08:00   9450.146596     20 -0.029161  13.916667  \n",
       "..                        ...           ...    ...       ...        ...  \n",
       "79  2024-02-05 23:00:00+08:00       22650.0     14 -0.021387   4.552083  \n",
       "80  2024-02-26 14:00:00+08:00       22635.0     15 -0.000386   17.96875  \n",
       "81  2024-03-26 14:30:00+08:00       23235.0     14 -0.022916  12.135417  \n",
       "82  2024-04-15 21:15:00+08:00  25015.630197      9 -0.000441   4.479167  \n",
       "83  2024-06-03 11:15:00+08:00       26725.0      9  0.022575  20.020833  \n",
       "\n",
       "[3217 rows x 9 columns]"
      ],
      "text/html": [
       "<div>\n",
       "<style scoped>\n",
       "    .dataframe tbody tr th:only-of-type {\n",
       "        vertical-align: middle;\n",
       "    }\n",
       "\n",
       "    .dataframe tbody tr th {\n",
       "        vertical-align: top;\n",
       "    }\n",
       "\n",
       "    .dataframe thead th {\n",
       "        text-align: right;\n",
       "    }\n",
       "</style>\n",
       "<table border=\"1\" class=\"dataframe\">\n",
       "  <thead>\n",
       "    <tr style=\"text-align: right;\">\n",
       "      <th></th>\n",
       "      <th>symbol</th>\n",
       "      <th>direction</th>\n",
       "      <th>open_time</th>\n",
       "      <th>open_price</th>\n",
       "      <th>close_time</th>\n",
       "      <th>close_price</th>\n",
       "      <th>volume</th>\n",
       "      <th>pnl</th>\n",
       "      <th>hp</th>\n",
       "    </tr>\n",
       "  </thead>\n",
       "  <tbody>\n",
       "    <tr>\n",
       "      <th>0</th>\n",
       "      <td>AP00</td>\n",
       "      <td>Direction.LONG</td>\n",
       "      <td>2018-06-08 14:00:00+08:00</td>\n",
       "      <td>8885.813828</td>\n",
       "      <td>2018-06-19 09:15:00+08:00</td>\n",
       "      <td>10344.694001</td>\n",
       "      <td>16</td>\n",
       "      <td>0.164181</td>\n",
       "      <td>10.802083</td>\n",
       "    </tr>\n",
       "    <tr>\n",
       "      <th>1</th>\n",
       "      <td>AP00</td>\n",
       "      <td>Direction.SHORT</td>\n",
       "      <td>2018-07-05 14:15:00+08:00</td>\n",
       "      <td>9555.614159</td>\n",
       "      <td>2018-07-19 09:30:00+08:00</td>\n",
       "      <td>9482.0</td>\n",
       "      <td>14</td>\n",
       "      <td>0.007704</td>\n",
       "      <td>13.802083</td>\n",
       "    </tr>\n",
       "    <tr>\n",
       "      <th>2</th>\n",
       "      <td>AP00</td>\n",
       "      <td>Direction.SHORT</td>\n",
       "      <td>2018-10-09 14:30:00+08:00</td>\n",
       "      <td>10998.514315</td>\n",
       "      <td>2018-10-26 21:00:00+08:00</td>\n",
       "      <td>10444.746897</td>\n",
       "      <td>10</td>\n",
       "      <td>0.050349</td>\n",
       "      <td>17.270833</td>\n",
       "    </tr>\n",
       "    <tr>\n",
       "      <th>3</th>\n",
       "      <td>AP00</td>\n",
       "      <td>Direction.SHORT</td>\n",
       "      <td>2018-11-19 11:00:00+08:00</td>\n",
       "      <td>10765.0</td>\n",
       "      <td>2018-12-07 13:45:00+08:00</td>\n",
       "      <td>10269.0</td>\n",
       "      <td>18</td>\n",
       "      <td>0.046075</td>\n",
       "      <td>18.114583</td>\n",
       "    </tr>\n",
       "    <tr>\n",
       "      <th>4</th>\n",
       "      <td>AP00</td>\n",
       "      <td>Direction.LONG</td>\n",
       "      <td>2019-02-18 11:15:00+08:00</td>\n",
       "      <td>9734.0</td>\n",
       "      <td>2019-03-04 09:15:00+08:00</td>\n",
       "      <td>9450.146596</td>\n",
       "      <td>20</td>\n",
       "      <td>-0.029161</td>\n",
       "      <td>13.916667</td>\n",
       "    </tr>\n",
       "    <tr>\n",
       "      <th>...</th>\n",
       "      <td>...</td>\n",
       "      <td>...</td>\n",
       "      <td>...</td>\n",
       "      <td>...</td>\n",
       "      <td>...</td>\n",
       "      <td>...</td>\n",
       "      <td>...</td>\n",
       "      <td>...</td>\n",
       "      <td>...</td>\n",
       "    </tr>\n",
       "    <tr>\n",
       "      <th>79</th>\n",
       "      <td>zn00</td>\n",
       "      <td>Direction.LONG</td>\n",
       "      <td>2024-02-01 09:45:00+08:00</td>\n",
       "      <td>23145.0</td>\n",
       "      <td>2024-02-05 23:00:00+08:00</td>\n",
       "      <td>22650.0</td>\n",
       "      <td>14</td>\n",
       "      <td>-0.021387</td>\n",
       "      <td>4.552083</td>\n",
       "    </tr>\n",
       "    <tr>\n",
       "      <th>80</th>\n",
       "      <td>zn00</td>\n",
       "      <td>Direction.SHORT</td>\n",
       "      <td>2024-02-08 14:45:00+08:00</td>\n",
       "      <td>22626.265874</td>\n",
       "      <td>2024-02-26 14:00:00+08:00</td>\n",
       "      <td>22635.0</td>\n",
       "      <td>15</td>\n",
       "      <td>-0.000386</td>\n",
       "      <td>17.96875</td>\n",
       "    </tr>\n",
       "    <tr>\n",
       "      <th>81</th>\n",
       "      <td>zn00</td>\n",
       "      <td>Direction.LONG</td>\n",
       "      <td>2024-03-14 11:15:00+08:00</td>\n",
       "      <td>23779.934956</td>\n",
       "      <td>2024-03-26 14:30:00+08:00</td>\n",
       "      <td>23235.0</td>\n",
       "      <td>14</td>\n",
       "      <td>-0.022916</td>\n",
       "      <td>12.135417</td>\n",
       "    </tr>\n",
       "    <tr>\n",
       "      <th>82</th>\n",
       "      <td>zn00</td>\n",
       "      <td>Direction.LONG</td>\n",
       "      <td>2024-04-11 09:45:00+08:00</td>\n",
       "      <td>25026.664881</td>\n",
       "      <td>2024-04-15 21:15:00+08:00</td>\n",
       "      <td>25015.630197</td>\n",
       "      <td>9</td>\n",
       "      <td>-0.000441</td>\n",
       "      <td>4.479167</td>\n",
       "    </tr>\n",
       "    <tr>\n",
       "      <th>83</th>\n",
       "      <td>zn00</td>\n",
       "      <td>Direction.LONG</td>\n",
       "      <td>2024-05-14 10:45:00+08:00</td>\n",
       "      <td>26135.0</td>\n",
       "      <td>2024-06-03 11:15:00+08:00</td>\n",
       "      <td>26725.0</td>\n",
       "      <td>9</td>\n",
       "      <td>0.022575</td>\n",
       "      <td>20.020833</td>\n",
       "    </tr>\n",
       "  </tbody>\n",
       "</table>\n",
       "<p>3217 rows × 9 columns</p>\n",
       "</div>"
      ]
     },
     "execution_count": 6,
     "metadata": {},
     "output_type": "execute_result"
    }
   ],
   "execution_count": 6
  },
  {
   "metadata": {
    "ExecuteTime": {
     "end_time": "2024-08-21T02:01:38.153134Z",
     "start_time": "2024-08-21T02:01:38.139140Z"
    }
   },
   "cell_type": "code",
   "source": [
    "from vnpy.trader.constant import Direction\n",
    "\n",
    "def rounds_to_open_signal(rounds):\n",
    "    open_signal = pd.DataFrame()\n",
    "    \n",
    "    for i in range(len(rounds)):\n",
    "        symbol = rounds['symbol'].iat[i]\n",
    "        direction = rounds['direction'].iat[i]\n",
    "        open_time = rounds['open_time'].iat[i]\n",
    "        close_time = rounds['close_time'].iat[i]\n",
    "        \n",
    "        if direction == Direction.LONG:\n",
    "            open_signal.loc[open_time, symbol] = 1\n",
    "        else:\n",
    "            open_signal.loc[open_time, symbol] = -1\n",
    "    \n",
    "        open_signal.loc[close_time, symbol] = 0\n",
    "    \n",
    "    open_signal.index = open_signal.index.tz_localize(None)\n",
    "    open_signal = open_signal.sort_index()\n",
    "    \n",
    "    return open_signal"
   ],
   "id": "1e5e9bea9aa0691e",
   "outputs": [],
   "execution_count": 7
  },
  {
   "metadata": {
    "ExecuteTime": {
     "end_time": "2024-08-21T02:01:46.468008Z",
     "start_time": "2024-08-21T02:01:38.154637Z"
    }
   },
   "cell_type": "code",
   "source": [
    "from Pandora.constant import Frequency\n",
    "from Pandora.research import *\n",
    "\n",
    "codes = CODES_TRADABLE_SL\n",
    "quote_bt, ret = get_quote(codes, end=dt.datetime.now(), freq=Frequency.Min_15)\n",
    "weight = get_weight_by_std_minus(quote_bt, 100, n=3)\n"
   ],
   "id": "9778da7c5f7e1a96",
   "outputs": [],
   "execution_count": 8
  },
  {
   "metadata": {
    "ExecuteTime": {
     "end_time": "2024-08-21T02:01:52.038125Z",
     "start_time": "2024-08-21T02:01:46.469006Z"
    }
   },
   "cell_type": "code",
   "source": [
    "weight = weight.loc[:datetime(2024, 8, 16), :]\n",
    "ret = ret.loc[:datetime(2024, 8, 16), :]\n",
    "open_signal = rounds_to_open_signal(rounds)\n",
    "_, open_signal = ret.align(open_signal, join='left')\n",
    "daily_base = backtest_factor(open_signal, weight, ret, COMMISSION)\n",
    "\n",
    "daily_base.cumsum().plot(figsize=(16, 9))\n",
    "calc_sharpe(daily_base)"
   ],
   "id": "2678716846891dc2",
   "outputs": [
    {
     "data": {
      "text/plain": [
       "1.2248490123178744"
      ]
     },
     "execution_count": 9,
     "metadata": {},
     "output_type": "execute_result"
    },
    {
     "data": {
      "text/plain": [
       "<Figure size 1152x648 with 1 Axes>"
      ],
      "image/png": "[encoded data removed]"
     },
     "metadata": {
      "needs_background": "light"
     },
     "output_type": "display_data"
    }
   ],
   "execution_count": 9
  },
  {
   "metadata": {},
   "cell_type": "markdown",
   "source": [
    "## Full set\n",
    "\n",
    "- CODES_SHORT\n",
    "- Vol exit\n",
    "- LS imba"
   ],
   "id": "9e39a13ff276f67c"
  },
  {
   "metadata": {},
   "cell_type": "markdown",
   "source": "### ATR multiplier = 11",
   "id": "c8b74867947c98b9"
  },
  {
   "metadata": {
    "ExecuteTime": {
     "end_time": "2024-08-21T08:25:50.356458Z",
     "start_time": "2024-08-21T08:09:19.927707Z"
    }
   },
   "cell_type": "code",
   "source": [
    "setting = {\n",
    "    \"window\": 50,\n",
    "}\n",
    "engine.add_strategy(MACDBBANDStrategy, setting)\n",
    "\n",
    "\n",
    "setting = OptimizationSetting()\n",
    "setting.set_target(\"sharpe_ratio\")\n",
    "setting.add_parameter(\"window\", 50, 500, 50)\n",
    "setting.add_parameter(\"bband_width\", 1.5, 2, 0.25)\n",
    "setting.add_parameter(\"atr_multiplier\", 11)\n",
    "\n",
    "opt_res = engine.run_bf_optimization(setting, max_workers=3)"
   ],
   "id": "de605849fe4139c3",
   "outputs": [
    {
     "name": "stdout",
     "output_type": "stream",
     "text": [
      "2024-08-21 16:09:19.930699\t开始执行穷举算法优化\n",
      "2024-08-21 16:09:19.930699\t参数优化空间：30\n"
     ]
    },
    {
     "name": "stderr",
     "output_type": "stream",
     "text": [
      "100%|██████████| 30/30 [16:24<00:00, 32.82s/it]\n"
     ]
    },
    {
     "name": "stdout",
     "output_type": "stream",
     "text": [
      "2024-08-21 16:25:48.203568\t穷举算法优化完成，耗时988秒\n",
      "2024-08-21 16:25:50.339504\t参数：{'window': 350, 'bband_width': 1.5, 'atr_multiplier': 11}, 目标：1.6482621160456545\n",
      "2024-08-21 16:25:50.339504\t参数：{'window': 250, 'bband_width': 1.5, 'atr_multiplier': 11}, 目标：1.4280415876905517\n",
      "2024-08-21 16:25:50.339504\t参数：{'window': 50, 'bband_width': 1.5, 'atr_multiplier': 11}, 目标：1.4257912029394062\n",
      "2024-08-21 16:25:50.339504\t参数：{'window': 200, 'bband_width': 2.0, 'atr_multiplier': 11}, 目标：1.4020287389747028\n",
      "2024-08-21 16:25:50.339504\t参数：{'window': 450, 'bband_width': 1.75, 'atr_multiplier': 11}, 目标：1.395863619573767\n",
      "2024-08-21 16:25:50.339504\t参数：{'window': 400, 'bband_width': 1.75, 'atr_multiplier': 11}, 目标：1.3672297791824217\n",
      "2024-08-21 16:25:50.339504\t参数：{'window': 350, 'bband_width': 1.75, 'atr_multiplier': 11}, 目标：1.3522072720706593\n",
      "2024-08-21 16:25:50.339504\t参数：{'window': 350, 'bband_width': 2.0, 'atr_multiplier': 11}, 目标：1.3492731442376498\n",
      "2024-08-21 16:25:50.339504\t参数：{'window': 200, 'bband_width': 1.75, 'atr_multiplier': 11}, 目标：1.3423991141629856\n",
      "2024-08-21 16:25:50.339504\t参数：{'window': 400, 'bband_width': 1.5, 'atr_multiplier': 11}, 目标：1.339767148977505\n",
      "2024-08-21 16:25:50.339504\t参数：{'window': 250, 'bband_width': 2.0, 'atr_multiplier': 11}, 目标：1.3105345578815666\n",
      "2024-08-21 16:25:50.339504\t参数：{'window': 450, 'bband_width': 1.5, 'atr_multiplier': 11}, 目标：1.282189932962325\n",
      "2024-08-21 16:25:50.339504\t参数：{'window': 150, 'bband_width': 1.75, 'atr_multiplier': 11}, 目标：1.2714132650793295\n",
      "2024-08-21 16:25:50.339504\t参数：{'window': 100, 'bband_width': 1.5, 'atr_multiplier': 11}, 目标：1.2655840926107724\n",
      "2024-08-21 16:25:50.339504\t参数：{'window': 50, 'bband_width': 1.75, 'atr_multiplier': 11}, 目标：1.2470770403218145\n",
      "2024-08-21 16:25:50.339504\t参数：{'window': 250, 'bband_width': 1.75, 'atr_multiplier': 11}, 目标：1.2428076408341555\n",
      "2024-08-21 16:25:50.339504\t参数：{'window': 300, 'bband_width': 1.75, 'atr_multiplier': 11}, 目标：1.23899181379078\n",
      "2024-08-21 16:25:50.339504\t参数：{'window': 300, 'bband_width': 2.0, 'atr_multiplier': 11}, 目标：1.2332889736807797\n",
      "2024-08-21 16:25:50.339504\t参数：{'window': 200, 'bband_width': 1.5, 'atr_multiplier': 11}, 目标：1.2255138837313675\n",
      "2024-08-21 16:25:50.339504\t参数：{'window': 500, 'bband_width': 1.75, 'atr_multiplier': 11}, 目标：1.2171580452474091\n",
      "2024-08-21 16:25:50.339504\t参数：{'window': 500, 'bband_width': 2.0, 'atr_multiplier': 11}, 目标：1.1800504966307872\n",
      "2024-08-21 16:25:50.339504\t参数：{'window': 150, 'bband_width': 1.5, 'atr_multiplier': 11}, 目标：1.1772258155954163\n",
      "2024-08-21 16:25:50.339504\t参数：{'window': 300, 'bband_width': 1.5, 'atr_multiplier': 11}, 目标：1.1728812478083417\n",
      "2024-08-21 16:25:50.339504\t参数：{'window': 50, 'bband_width': 2.0, 'atr_multiplier': 11}, 目标：1.1719324058566911\n",
      "2024-08-21 16:25:50.339504\t参数：{'window': 400, 'bband_width': 2.0, 'atr_multiplier': 11}, 目标：1.1664891007799412\n",
      "2024-08-21 16:25:50.339504\t参数：{'window': 500, 'bband_width': 1.5, 'atr_multiplier': 11}, 目标：1.130448416246656\n",
      "2024-08-21 16:25:50.339504\t参数：{'window': 150, 'bband_width': 2.0, 'atr_multiplier': 11}, 目标：1.1277959769336843\n",
      "2024-08-21 16:25:50.339504\t参数：{'window': 100, 'bband_width': 1.75, 'atr_multiplier': 11}, 目标：1.0947061697982787\n",
      "2024-08-21 16:25:50.339504\t参数：{'window': 450, 'bband_width': 2.0, 'atr_multiplier': 11}, 目标：1.0452173940040008\n",
      "2024-08-21 16:25:50.339504\t参数：{'window': 100, 'bband_width': 2.0, 'atr_multiplier': 11}, 目标：0.9715897592884706\n"
     ]
    }
   ],
   "execution_count": 9
  },
  {
   "metadata": {
    "ExecuteTime": {
     "end_time": "2024-08-19T06:15:22.939290Z",
     "start_time": "2024-08-19T06:10:21.042011Z"
    }
   },
   "cell_type": "code",
   "source": [
    "for res in opt_res:\n",
    "    rounds = res[3]\n",
    "    open_signal = rounds_to_open_signal(rounds)\n",
    "    \n",
    "    params = '_'.join((str(k) + \"_\" + str(v) for k, v in res[0].items()))\n",
    "    strategy_id = f\"MACDBBANDStrategy_{params}\"\n",
    "    open_signal.to_parquet(strategy_id + \".parquet\")"
   ],
   "id": "99de626d506a6145",
   "outputs": [],
   "execution_count": 11
  },
  {
   "metadata": {
    "ExecuteTime": {
     "end_time": "2024-08-21T08:27:31.228078Z",
     "start_time": "2024-08-21T08:27:31.214653Z"
    }
   },
   "cell_type": "code",
   "source": [
    "sharpe_mat = pd.DataFrame()\n",
    "\n",
    "for res in opt_res:\n",
    "    param = res[0]\n",
    "    sharpe = res[1]\n",
    "    \n",
    "    sharpe_mat.loc[param['window'], param['bband_width']] = sharpe\n",
    "    \n",
    "sharpe_mat.sort_index().iloc[:, [0, 2, 1]]\n"
   ],
   "id": "120f8ee659ec9387",
   "outputs": [
    {
     "data": {
      "text/plain": [
       "         1.50      1.75      2.00\n",
       "50   1.425791  1.247077  1.171932\n",
       "100  1.265584  1.094706  0.971590\n",
       "150  1.177226  1.271413  1.127796\n",
       "200  1.225514  1.342399  1.402029\n",
       "250  1.428042  1.242808  1.310535\n",
       "300  1.172881  1.238992  1.233289\n",
       "350  1.648262  1.352207  1.349273\n",
       "400  1.339767  1.367230  1.166489\n",
       "450  1.282190  1.395864  1.045217\n",
       "500  1.130448  1.217158  1.180050"
      ],
      "text/html": [
       "<div>\n",
       "<style scoped>\n",
       "    .dataframe tbody tr th:only-of-type {\n",
       "        vertical-align: middle;\n",
       "    }\n",
       "\n",
       "    .dataframe tbody tr th {\n",
       "        vertical-align: top;\n",
       "    }\n",
       "\n",
       "    .dataframe thead th {\n",
       "        text-align: right;\n",
       "    }\n",
       "</style>\n",
       "<table border=\"1\" class=\"dataframe\">\n",
       "  <thead>\n",
       "    <tr style=\"text-align: right;\">\n",
       "      <th></th>\n",
       "      <th>1.50</th>\n",
       "      <th>1.75</th>\n",
       "      <th>2.00</th>\n",
       "    </tr>\n",
       "  </thead>\n",
       "  <tbody>\n",
       "    <tr>\n",
       "      <th>50</th>\n",
       "      <td>1.425791</td>\n",
       "      <td>1.247077</td>\n",
       "      <td>1.171932</td>\n",
       "    </tr>\n",
       "    <tr>\n",
       "      <th>100</th>\n",
       "      <td>1.265584</td>\n",
       "      <td>1.094706</td>\n",
       "      <td>0.971590</td>\n",
       "    </tr>\n",
       "    <tr>\n",
       "      <th>150</th>\n",
       "      <td>1.177226</td>\n",
       "      <td>1.271413</td>\n",
       "      <td>1.127796</td>\n",
       "    </tr>\n",
       "    <tr>\n",
       "      <th>200</th>\n",
       "      <td>1.225514</td>\n",
       "      <td>1.342399</td>\n",
       "      <td>1.402029</td>\n",
       "    </tr>\n",
       "    <tr>\n",
       "      <th>250</th>\n",
       "      <td>1.428042</td>\n",
       "      <td>1.242808</td>\n",
       "      <td>1.310535</td>\n",
       "    </tr>\n",
       "    <tr>\n",
       "      <th>300</th>\n",
       "      <td>1.172881</td>\n",
       "      <td>1.238992</td>\n",
       "      <td>1.233289</td>\n",
       "    </tr>\n",
       "    <tr>\n",
       "      <th>350</th>\n",
       "      <td>1.648262</td>\n",
       "      <td>1.352207</td>\n",
       "      <td>1.349273</td>\n",
       "    </tr>\n",
       "    <tr>\n",
       "      <th>400</th>\n",
       "      <td>1.339767</td>\n",
       "      <td>1.367230</td>\n",
       "      <td>1.166489</td>\n",
       "    </tr>\n",
       "    <tr>\n",
       "      <th>450</th>\n",
       "      <td>1.282190</td>\n",
       "      <td>1.395864</td>\n",
       "      <td>1.045217</td>\n",
       "    </tr>\n",
       "    <tr>\n",
       "      <th>500</th>\n",
       "      <td>1.130448</td>\n",
       "      <td>1.217158</td>\n",
       "      <td>1.180050</td>\n",
       "    </tr>\n",
       "  </tbody>\n",
       "</table>\n",
       "</div>"
      ]
     },
     "execution_count": 13,
     "metadata": {},
     "output_type": "execute_result"
    }
   ],
   "execution_count": 13
  },
  {
   "metadata": {},
   "cell_type": "markdown",
   "source": "### ATR multiplier = 13",
   "id": "d8f1e98b3545e4ea"
  },
  {
   "metadata": {
    "ExecuteTime": {
     "end_time": "2024-08-21T02:32:37.253024Z",
     "start_time": "2024-08-21T02:02:08.122203Z"
    }
   },
   "cell_type": "code",
   "source": [
    "setting = {\n",
    "    \"window\": 50,\n",
    "}\n",
    "engine.add_strategy(MACDBBANDStrategy, setting)\n",
    "\n",
    "\n",
    "setting = OptimizationSetting()\n",
    "setting.set_target(\"sharpe_ratio\")\n",
    "setting.add_parameter(\"window\", 50, 500, 50)\n",
    "setting.add_parameter(\"bband_width\", 1.5, 2, 0.25)\n",
    "setting.add_parameter(\"atr_multiplier\", 13)\n",
    "\n",
    "opt_res = engine.run_bf_optimization(setting, max_workers=5)\n",
    "\n",
    "sharpe_mat = pd.DataFrame()\n",
    "\n",
    "for res in opt_res:\n",
    "    param = res[0]\n",
    "    sharpe = res[1]\n",
    "\n",
    "    sharpe_mat.loc[param['window'], param['bband_width']] = sharpe\n",
    "\n",
    "sharpe_mat.sort_index()"
   ],
   "id": "64205e3eed503fdc",
   "outputs": [
    {
     "name": "stdout",
     "output_type": "stream",
     "text": [
      "2024-08-21 10:02:08.126193\t开始执行穷举算法优化\n",
      "2024-08-21 10:02:08.126193\t参数优化空间：30\n"
     ]
    },
    {
     "name": "stderr",
     "output_type": "stream",
     "text": [
      "100%|██████████| 30/30 [30:15<00:00, 60.51s/it]  \n"
     ]
    },
    {
     "name": "stdout",
     "output_type": "stream",
     "text": [
      "2024-08-21 10:32:29.213541\t穷举算法优化完成，耗时1821秒\n",
      "2024-08-21 10:32:37.202160\t参数：{'window': 450, 'bband_width': 1.75, 'atr_multiplier': 13}, 目标：1.2101463176244218\n",
      "2024-08-21 10:32:37.203157\t参数：{'window': 100, 'bband_width': 1.5, 'atr_multiplier': 13}, 目标：1.2014774100057335\n",
      "2024-08-21 10:32:37.203157\t参数：{'window': 200, 'bband_width': 2.0, 'atr_multiplier': 13}, 目标：1.1611758432886177\n",
      "2024-08-21 10:32:37.203157\t参数：{'window': 350, 'bband_width': 1.5, 'atr_multiplier': 13}, 目标：1.1531206290408385\n",
      "2024-08-21 10:32:37.203157\t参数：{'window': 300, 'bband_width': 1.75, 'atr_multiplier': 13}, 目标：1.1504341043468622\n",
      "2024-08-21 10:32:37.203157\t参数：{'window': 250, 'bband_width': 1.75, 'atr_multiplier': 13}, 目标：1.1285729533115862\n",
      "2024-08-21 10:32:37.203157\t参数：{'window': 200, 'bband_width': 1.75, 'atr_multiplier': 13}, 目标：1.1022708051497283\n",
      "2024-08-21 10:32:37.203157\t参数：{'window': 400, 'bband_width': 1.75, 'atr_multiplier': 13}, 目标：1.0928913589706717\n",
      "2024-08-21 10:32:37.204155\t参数：{'window': 150, 'bband_width': 2.0, 'atr_multiplier': 13}, 目标：1.0846148493684102\n",
      "2024-08-21 10:32:37.204155\t参数：{'window': 150, 'bband_width': 1.75, 'atr_multiplier': 13}, 目标：1.0755075651842558\n",
      "2024-08-21 10:32:37.204155\t参数：{'window': 350, 'bband_width': 2.0, 'atr_multiplier': 13}, 目标：1.0658898484283998\n",
      "2024-08-21 10:32:37.204155\t参数：{'window': 450, 'bband_width': 1.5, 'atr_multiplier': 13}, 目标：1.0612388774194943\n",
      "2024-08-21 10:32:37.204155\t参数：{'window': 50, 'bband_width': 1.5, 'atr_multiplier': 13}, 目标：1.0529017460630847\n",
      "2024-08-21 10:32:37.204155\t参数：{'window': 100, 'bband_width': 1.75, 'atr_multiplier': 13}, 目标：1.038769378018553\n",
      "2024-08-21 10:32:37.204155\t参数：{'window': 150, 'bband_width': 1.5, 'atr_multiplier': 13}, 目标：1.0367778484326582\n",
      "2024-08-21 10:32:37.204155\t参数：{'window': 250, 'bband_width': 1.5, 'atr_multiplier': 13}, 目标：1.0336012541496513\n",
      "2024-08-21 10:32:37.204155\t参数：{'window': 350, 'bband_width': 1.75, 'atr_multiplier': 13}, 目标：1.0210038479194414\n",
      "2024-08-21 10:32:37.204155\t参数：{'window': 50, 'bband_width': 1.75, 'atr_multiplier': 13}, 目标：1.0204885253661138\n",
      "2024-08-21 10:32:37.204155\t参数：{'window': 400, 'bband_width': 1.5, 'atr_multiplier': 13}, 目标：1.0162034555305475\n",
      "2024-08-21 10:32:37.204155\t参数：{'window': 500, 'bband_width': 1.5, 'atr_multiplier': 13}, 目标：1.0124483845263144\n",
      "2024-08-21 10:32:37.204155\t参数：{'window': 200, 'bband_width': 1.5, 'atr_multiplier': 13}, 目标：1.0059545922511606\n",
      "2024-08-21 10:32:37.204155\t参数：{'window': 400, 'bband_width': 2.0, 'atr_multiplier': 13}, 目标：1.0058500690480214\n",
      "2024-08-21 10:32:37.204155\t参数：{'window': 500, 'bband_width': 2.0, 'atr_multiplier': 13}, 目标：1.0033435854759303\n",
      "2024-08-21 10:32:37.204155\t参数：{'window': 300, 'bband_width': 2.0, 'atr_multiplier': 13}, 目标：0.9897805515281795\n",
      "2024-08-21 10:32:37.204155\t参数：{'window': 50, 'bband_width': 2.0, 'atr_multiplier': 13}, 目标：0.9890474886748205\n",
      "2024-08-21 10:32:37.204155\t参数：{'window': 250, 'bband_width': 2.0, 'atr_multiplier': 13}, 目标：0.9835246172799786\n",
      "2024-08-21 10:32:37.204155\t参数：{'window': 300, 'bband_width': 1.5, 'atr_multiplier': 13}, 目标：0.9549370285916605\n",
      "2024-08-21 10:32:37.204155\t参数：{'window': 100, 'bband_width': 2.0, 'atr_multiplier': 13}, 目标：0.919784208638967\n",
      "2024-08-21 10:32:37.204155\t参数：{'window': 450, 'bband_width': 2.0, 'atr_multiplier': 13}, 目标：0.8217429739383202\n",
      "2024-08-21 10:32:37.204155\t参数：{'window': 500, 'bband_width': 1.75, 'atr_multiplier': 13}, 目标：0.7870772209328818\n"
     ]
    },
    {
     "data": {
      "text/plain": [
       "         1.75      1.50      2.00\n",
       "50   1.020489  1.052902  0.989047\n",
       "100  1.038769  1.201477  0.919784\n",
       "150  1.075508  1.036778  1.084615\n",
       "200  1.102271  1.005955  1.161176\n",
       "250  1.128573  1.033601  0.983525\n",
       "300  1.150434  0.954937  0.989781\n",
       "350  1.021004  1.153121  1.065890\n",
       "400  1.092891  1.016203  1.005850\n",
       "450  1.210146  1.061239  0.821743\n",
       "500  0.787077  1.012448  1.003344"
      ],
      "text/html": [
       "<div>\n",
       "<style scoped>\n",
       "    .dataframe tbody tr th:only-of-type {\n",
       "        vertical-align: middle;\n",
       "    }\n",
       "\n",
       "    .dataframe tbody tr th {\n",
       "        vertical-align: top;\n",
       "    }\n",
       "\n",
       "    .dataframe thead th {\n",
       "        text-align: right;\n",
       "    }\n",
       "</style>\n",
       "<table border=\"1\" class=\"dataframe\">\n",
       "  <thead>\n",
       "    <tr style=\"text-align: right;\">\n",
       "      <th></th>\n",
       "      <th>1.75</th>\n",
       "      <th>1.50</th>\n",
       "      <th>2.00</th>\n",
       "    </tr>\n",
       "  </thead>\n",
       "  <tbody>\n",
       "    <tr>\n",
       "      <th>50</th>\n",
       "      <td>1.020489</td>\n",
       "      <td>1.052902</td>\n",
       "      <td>0.989047</td>\n",
       "    </tr>\n",
       "    <tr>\n",
       "      <th>100</th>\n",
       "      <td>1.038769</td>\n",
       "      <td>1.201477</td>\n",
       "      <td>0.919784</td>\n",
       "    </tr>\n",
       "    <tr>\n",
       "      <th>150</th>\n",
       "      <td>1.075508</td>\n",
       "      <td>1.036778</td>\n",
       "      <td>1.084615</td>\n",
       "    </tr>\n",
       "    <tr>\n",
       "      <th>200</th>\n",
       "      <td>1.102271</td>\n",
       "      <td>1.005955</td>\n",
       "      <td>1.161176</td>\n",
       "    </tr>\n",
       "    <tr>\n",
       "      <th>250</th>\n",
       "      <td>1.128573</td>\n",
       "      <td>1.033601</td>\n",
       "      <td>0.983525</td>\n",
       "    </tr>\n",
       "    <tr>\n",
       "      <th>300</th>\n",
       "      <td>1.150434</td>\n",
       "      <td>0.954937</td>\n",
       "      <td>0.989781</td>\n",
       "    </tr>\n",
       "    <tr>\n",
       "      <th>350</th>\n",
       "      <td>1.021004</td>\n",
       "      <td>1.153121</td>\n",
       "      <td>1.065890</td>\n",
       "    </tr>\n",
       "    <tr>\n",
       "      <th>400</th>\n",
       "      <td>1.092891</td>\n",
       "      <td>1.016203</td>\n",
       "      <td>1.005850</td>\n",
       "    </tr>\n",
       "    <tr>\n",
       "      <th>450</th>\n",
       "      <td>1.210146</td>\n",
       "      <td>1.061239</td>\n",
       "      <td>0.821743</td>\n",
       "    </tr>\n",
       "    <tr>\n",
       "      <th>500</th>\n",
       "      <td>0.787077</td>\n",
       "      <td>1.012448</td>\n",
       "      <td>1.003344</td>\n",
       "    </tr>\n",
       "  </tbody>\n",
       "</table>\n",
       "</div>"
      ]
     },
     "execution_count": 10,
     "metadata": {},
     "output_type": "execute_result"
    }
   ],
   "execution_count": 10
  },
  {
   "metadata": {
    "ExecuteTime": {
     "end_time": "2024-08-21T02:36:56.012290Z",
     "start_time": "2024-08-21T02:33:02.363246Z"
    }
   },
   "cell_type": "code",
   "source": [
    "for res in opt_res:\n",
    "    rounds = res[3]\n",
    "    open_signal = rounds_to_open_signal(rounds)\n",
    "    \n",
    "    params = '_'.join((str(k) + \"_\" + str(v) for k, v in res[0].items()))\n",
    "    strategy_id = f\"MACDBBANDStrategy_{params}\"\n",
    "    open_signal.to_parquet(strategy_id + \".parquet\")"
   ],
   "id": "54c7da3af4bd5314",
   "outputs": [],
   "execution_count": 11
  },
  {
   "metadata": {},
   "cell_type": "markdown",
   "source": "## LS balance",
   "id": "6be6510e262dc13c"
  },
  {
   "metadata": {},
   "cell_type": "code",
   "source": [
    "setting = {\n",
    "    \"window\": 50,\n",
    "}\n",
    "engine.add_strategy(MACDBBANDStrategy, setting)\n",
    "\n",
    "\n",
    "setting = OptimizationSetting()\n",
    "setting.set_target(\"sharpe_ratio\")\n",
    "setting.add_parameter(\"window\", 50, 500, 50)\n",
    "setting.add_parameter(\"bband_width\", 1.5, 2, 0.25)\n",
    "setting.add_parameter(\"atr_multiplier\", 13)\n",
    "setting.add_parameter(\"ls_imba\", 1)\n",
    "\n",
    "opt_res = engine.run_bf_optimization(setting, max_workers=10)\n",
    "\n",
    "sharpe_mat = pd.DataFrame()\n",
    "\n",
    "for res in opt_res:\n",
    "    param = res[0]\n",
    "    sharpe = res[1]\n",
    "\n",
    "    sharpe_mat.loc[param['window'], param['bband_width']] = sharpe\n",
    "\n",
    "sharpe_mat.sort_index()"
   ],
   "id": "f4874f19b50b3dc0",
   "outputs": [],
   "execution_count": null
  },
  {
   "metadata": {},
   "cell_type": "markdown",
   "source": "## CODES_MM",
   "id": "706c6f19a904a5a9"
  },
  {
   "metadata": {},
   "cell_type": "code",
   "source": [
    "from Pandora.research import CODES_MM\n",
    "\n",
    "mc = get_mc(CODES_MM)\n"
   ],
   "id": "7d1cf3bb8d33fb62",
   "outputs": [],
   "execution_count": null
  },
  {
   "metadata": {},
   "cell_type": "code",
   "source": [
    "engine = BacktestingEngine()\n",
    "engine.contracts = {i.vt_symbol: i for i in mc}\n",
    "\n",
    "engine.set_parameters(\n",
    "    vt_symbols=[i.vt_symbol for i in mc],\n",
    "    interval=Interval.MINUTE_15,\n",
    "    start=datetime(2015, 1, 1),\n",
    "    end=datetime(2024, 6, 27),\n",
    "    rates={\n",
    "        i.vt_symbol: COMMISSION for i in mc\n",
    "    },\n",
    "    slippages={\n",
    "        i.vt_symbol: 0 for i in mc\n",
    "    },\n",
    "    sizes={\n",
    "        i.vt_symbol: i.size for i in mc\n",
    "    },\n",
    "    priceticks={\n",
    "        i.vt_symbol: i.pricetick for i in mc\n",
    "    },\n",
    "    capital=1e8,\n",
    ")\n",
    "\n",
    "engine.load_data()\n",
    "\n"
   ],
   "id": "a93b795a22506059",
   "outputs": [],
   "execution_count": null
  },
  {
   "metadata": {},
   "cell_type": "code",
   "source": [
    "setting = {\n",
    "    \"window\": 50,\n",
    "}\n",
    "engine.add_strategy(MACDBBANDStrategy, setting)\n",
    "\n",
    "\n",
    "setting = OptimizationSetting()\n",
    "setting.set_target(\"sharpe_ratio\")\n",
    "setting.add_parameter(\"window\", 50, 500, 50)\n",
    "setting.add_parameter(\"bband_width\", 1.5, 2, 0.25)\n",
    "setting.add_parameter(\"atr_multiplier\", 11)\n",
    "\n",
    "opt_res = engine.run_bf_optimization(setting, max_workers=8)"
   ],
   "id": "ce8b128688705e0",
   "outputs": [],
   "execution_count": null
  },
  {
   "metadata": {},
   "cell_type": "code",
   "source": [
    "sharpe_mat = pd.DataFrame()\n",
    "\n",
    "for res in opt_res:\n",
    "    param = res[0]\n",
    "    sharpe = res[1]\n",
    "    \n",
    "    sharpe_mat.loc[param['window'], param['bband_width']] = sharpe\n",
    "    \n",
    "sharpe_mat\n"
   ],
   "id": "7c56552b4369336",
   "outputs": [],
   "execution_count": null
  }
 ],
 "metadata": {
  "kernelspec": {
   "display_name": "Python 3",
   "language": "python",
   "name": "python3"
  },
  "language_info": {
   "codemirror_mode": {
    "name": "ipython",
    "version": 2
   },
   "file_extension": ".py",
   "mimetype": "text/x-python",
   "name": "python",
   "nbconvert_exporter": "python",
   "pygments_lexer": "ipython2",
   "version": "2.7.6"
  }
 },
 "nbformat": 4,
 "nbformat_minor": 5
}
